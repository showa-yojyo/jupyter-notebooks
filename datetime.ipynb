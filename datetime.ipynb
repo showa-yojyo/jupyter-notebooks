{
 "cells": [
  {
   "cell_type": "markdown",
   "metadata": {},
   "source": [
    "# Python `datetime` を利用して基準日から何日目の一覧を作る"
   ]
  },
  {
   "cell_type": "markdown",
   "metadata": {},
   "source": [
    "例えば 2018 年 6 月 1 日を 1 日目とする、一連の何日目リストを出力するコードを次に示す："
   ]
  },
  {
   "cell_type": "code",
   "execution_count": 1,
   "metadata": {},
   "outputs": [
    {
     "name": "stdout",
     "output_type": "stream",
     "text": [
      "旅に出てから\n",
      " 50 日目が 2018-07-20\n",
      "100 日目が 2018-09-08\n",
      "150 日目が 2018-10-28\n",
      "200 日目が 2018-12-17\n",
      "250 日目が 2019-02-05\n",
      "300 日目が 2019-03-27\n",
      "350 日目が 2019-05-16\n",
      "400 日目が 2019-07-05\n",
      "450 日目が 2019-08-24\n",
      "500 日目が 2019-10-13\n"
     ]
    }
   ],
   "source": [
    "import datetime\n",
    "\n",
    "oneday = datetime.timedelta(days=1)\n",
    "origin = datetime.date(2018, 6, 1) - oneday\n",
    "\n",
    "def nth_date(origin, n):\n",
    "    return origin + oneday * n\n",
    "\n",
    "milestone = range(50, 501, 50)\n",
    "\n",
    "print('旅に出てから')\n",
    "for i in milestone:\n",
    "    print(f'{i:>3} 日目が {nth_date(origin, i)}')"
   ]
  },
  {
   "cell_type": "markdown",
   "metadata": {},
   "source": [
    "以下、プログラミングノート。\n",
    "* 25, 50, 100, 150, ... のように間隔が一定でない場合はループの反復要素に `range` を使わず、\n",
    "  何日目が欲しいのかを表す `tuple` オブジェクトを使う。\n",
    "* 結局断念した `date.strftime()` で日本語の日付文字列を出力する方法がわからない。\n",
    "  `locale` 絡みなので真面目に追求しても利が薄そう。\n",
    "* 逆に「今日がある基準日から何日目というタイプの記念日である」ことを判定するには次のようにする。\n",
    "  ログインボーナスの実装などに使いたい："
   ]
  },
  {
   "cell_type": "code",
   "execution_count": 2,
   "metadata": {},
   "outputs": [
    {
     "data": {
      "text/plain": [
       "False"
      ]
     },
     "execution_count": 2,
     "metadata": {},
     "output_type": "execute_result"
    }
   ],
   "source": [
    "(datetime.date.today() - origin).days in milestone"
   ]
  },
  {
   "cell_type": "code",
   "execution_count": null,
   "metadata": {},
   "outputs": [],
   "source": []
  }
 ],
 "metadata": {
  "kernelspec": {
   "display_name": "Python 3",
   "language": "python",
   "name": "python3"
  },
  "language_info": {
   "codemirror_mode": {
    "name": "ipython",
    "version": 3
   },
   "file_extension": ".py",
   "mimetype": "text/x-python",
   "name": "python",
   "nbconvert_exporter": "python",
   "pygments_lexer": "ipython3",
   "version": "3.6.6"
  }
 },
 "nbformat": 4,
 "nbformat_minor": 2
}
