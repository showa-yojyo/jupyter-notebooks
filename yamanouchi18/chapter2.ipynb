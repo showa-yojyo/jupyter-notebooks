{
 "cells": [
  {
   "cell_type": "markdown",
   "metadata": {},
   "source": [
    "# 第 2 章 Python のプログラミングルール\n",
    "\n",
    "『Python による統計分析入門』（オーム社、2018 年）第 2 章の読書ノート。\n",
    "読者が Python プログラマーならばこの章は読み飛ばして全然問題ない。"
   ]
  },
  {
   "cell_type": "markdown",
   "metadata": {},
   "source": [
    "## 2.1 Python プログラムの構造\n",
    "\n",
    "* Python での `for` ループの書き方は古典的なプログラミング言語と比べてどのような違いがあるのか？\n",
    "* Python は動的型付け言語である。これが意味することは何か？\n",
    "* Python における代表的な組み込み型にはどのようなものがあるか？\n",
    "* Python におけるコレクション型の要素反復処理について、基本的な処理としてどのようなものがあるか？\n",
    "* Python におけるラムダ式とはどのようなものであり、どのように利用するものか？\n",
    "* Python におけるオブジェクト指向プログラミングとはどのようなものか？"
   ]
  },
  {
   "cell_type": "markdown",
   "metadata": {},
   "source": [
    "## 2.2 Python プログラムの書き方ルール\n",
    "\n",
    "* Python ではプログラマーは変数や式をどのように定義するのか？"
   ]
  },
  {
   "cell_type": "code",
   "execution_count": null,
   "metadata": {},
   "outputs": [],
   "source": []
  }
 ],
 "metadata": {
  "kernelspec": {
   "display_name": "Python 3",
   "language": "python",
   "name": "python3"
  },
  "language_info": {
   "codemirror_mode": {
    "name": "ipython",
    "version": 3
   },
   "file_extension": ".py",
   "mimetype": "text/x-python",
   "name": "python",
   "nbconvert_exporter": "python",
   "pygments_lexer": "ipython3",
   "version": "3.6.6"
  }
 },
 "nbformat": 4,
 "nbformat_minor": 2
}
