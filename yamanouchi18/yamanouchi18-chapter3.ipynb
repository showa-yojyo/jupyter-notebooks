{
 "cells": [
  {
   "cell_type": "markdown",
   "metadata": {},
   "source": [
    "# 第 3 章 記述統計\n",
    "\n",
    "## 3.1 いろいろな量・データの種類\n",
    "\n",
    "* 定性的データと定量的データの違いとは何か？→値の大きさ、量の意味の有無によって説明できる。意味がないほうが定性的データだ。\n",
    "* 定性的データの分類とは何か？ →名義尺度、順序尺度。\n",
    "* 順序尺度と名義尺度のそれぞれの意味は何か？ \n",
    "* 定量的データの分類とは何か？→間隔尺度、比例尺度。\n",
    "* 間隔尺度と比例尺度のそれぞれの意味は何か？"
   ]
  },
  {
   "cell_type": "markdown",
   "metadata": {},
   "source": [
    "## 3.2 平均\n",
    "* データ全体を表現する指標にはどのようなものがあるか？→平均、分布、etc.\n",
    "* データ全体の代表値にはどのようなものがあるか？→平均値、中央値、最頻値。\n",
    "* 平均にはどのようなものがあるか？\n",
    "  * トリム平均とは何か？\n",
    "* データの要素数が偶数のときの中央値の定義はどうなるか？→中央値候補値二つを足して 2 で割る。\n",
    "* 最頻値がデータ内に複数ある場合はどのように扱うか？→Python の `statistics.mode` では例外が送出される。\n",
    "\n",
    "Python ではこのような代表値を計算するのに `statistics` モジュールの関数が利用できる。"
   ]
  },
  {
   "cell_type": "code",
   "execution_count": 6,
   "metadata": {},
   "outputs": [
    {
     "name": "stdout",
     "output_type": "stream",
     "text": [
      "171.1\n",
      "168.3\n",
      "20\n"
     ]
    }
   ],
   "source": [
    "from statistics import mean, median, mode\n",
    "print(mean([168.3, 179.2, 165.8]))\n",
    "print(median([168.3, 179.2, 165.8]))\n",
    "print(mode([19, 21, 19, 20, 22, 19, 20, 21, 20, 20]))"
   ]
  },
  {
   "cell_type": "markdown",
   "metadata": {},
   "source": [
    "幾何平均（相乗平均）、トリム平均は `scipy.stats` モジュールの関数 `gmean`, `trim_mean` を利用できる。トリムについては説明がいる。元データの最小値側と最大値側の要素を割合指定で除外するという加工を意味する。"
   ]
  },
  {
   "cell_type": "markdown",
   "metadata": {},
   "source": [
    "## 3.3 頻度分布・分散・偏差\n",
    "\n",
    "* ヒストグラムとは何か？→棒グラフのような図式化であり、あるデータ内の各要素が出現する頻度をカウントしたもの。\n",
    "* ヒストグラムの階級数の目安は何か？→Stirges の式を使う。$1 + \\log_2 n$\n",
    "* 四分位範囲とは何か？→データ全体をソートし、四等分して要素がどの範囲にいるのかを示すもの。\n",
    "* 箱ひげ図とは何か？→四分位範囲を図式的に表現するもの。\n",
    "* 分散とは何か？→分散とはデータの散らばり具合を示す指標で、$\\dfrac{\\sum_i (x_i - \\mu)^2}{n}$ で定義される。ここで $\\mu$ は全要素の相加平均とする。\n",
    "* 標準偏差とは何か？→分散の平方根をとったもの。\n",
    "* 正規分布とは何か？\n",
    "\n",
    "Jupyter Notebook の環境でプロット等をインラインで表示するには、次の命令が必要："
   ]
  },
  {
   "cell_type": "code",
   "execution_count": 7,
   "metadata": {},
   "outputs": [],
   "source": [
    "%matplotlib inline"
   ]
  },
  {
   "cell_type": "markdown",
   "metadata": {},
   "source": [
    "ヒストグラムを描画する。本書のデータが手許にないので、差し当たり学生 74 人の百点満点のテストの成績を表すリストを適当にでっちあげる。"
   ]
  },
  {
   "cell_type": "code",
   "execution_count": 8,
   "metadata": {},
   "outputs": [],
   "source": [
    "from random import randint\n",
    "x = [randint(0, 101) for _ in range(74)]"
   ]
  },
  {
   "cell_type": "markdown",
   "metadata": {},
   "source": [
    "Matplotlib でヒストグラムを描画する。慣れれば何も見ないでプロットできるようになる。ラベルに日本語を指定しているが、私の環境では文字が豆腐になる。本ノートではあえてそのままにしておく。"
   ]
  },
  {
   "cell_type": "code",
   "execution_count": 10,
   "metadata": {},
   "outputs": [
    {
     "data": {
      "image/png": "[encoded data removed]",
      "text/plain": [
       "<Figure size 432x288 with 1 Axes>"
      ]
     },
     "metadata": {},
     "output_type": "display_data"
    }
   ],
   "source": [
    "import matplotlib.pyplot as plt\n",
    "plt.hist(x, bins=20, color='gray')\n",
    "plt.title('成績の頻度分布')\n",
    "plt.xlabel('点数')\n",
    "plt.ylabel('人数（頻度）')\n",
    "plt.show()"
   ]
  },
  {
   "cell_type": "markdown",
   "metadata": {},
   "source": [
    "同データの分散と標準偏差を求め、箱ひげ図を描画する。\n",
    "\n",
    "* 本書では NumPy を利用しているが、本ノートでは Python 標準の関数を利用してみる。\n",
    "* 箱ひげ図を描画するためには Matplotlib の `boxplot` を利用する。"
   ]
  },
  {
   "cell_type": "code",
   "execution_count": 15,
   "metadata": {},
   "outputs": [
    {
     "name": "stdout",
     "output_type": "stream",
     "text": [
      "variance: 680.2927\n",
      "std-deviation: 26.0824\n"
     ]
    },
    {
     "data": {
      "image/png": "[encoded data removed]",
      "text/plain": [
       "<Figure size 432x288 with 1 Axes>"
      ]
     },
     "metadata": {},
     "output_type": "display_data"
    }
   ],
   "source": [
    "from statistics import variance, stdev\n",
    "\n",
    "print(f'variance: {variance(x):.4f}')\n",
    "print(f'std-deviation: {stdev(x):.4f}')\n",
    "\n",
    "plt.boxplot(x)\n",
    "plt.title('箱ひげ図')\n",
    "plt.grid()\n",
    "plt.xlabel('科目')\n",
    "plt.ylabel('点数')\n",
    "plt.show()"
   ]
  },
  {
   "cell_type": "code",
   "execution_count": null,
   "metadata": {},
   "outputs": [],
   "source": []
  }
 ],
 "metadata": {
  "kernelspec": {
   "display_name": "Python 3",
   "language": "python",
   "name": "python3"
  },
  "language_info": {
   "codemirror_mode": {
    "name": "ipython",
    "version": 3
   },
   "file_extension": ".py",
   "mimetype": "text/x-python",
   "name": "python",
   "nbconvert_exporter": "python",
   "pygments_lexer": "ipython3",
   "version": "3.6.5"
  }
 },
 "nbformat": 4,
 "nbformat_minor": 2
}
