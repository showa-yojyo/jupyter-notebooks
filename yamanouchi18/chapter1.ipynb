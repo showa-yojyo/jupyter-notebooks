{
 "cells": [
  {
   "cell_type": "markdown",
   "metadata": {},
   "source": [
    "# 第 1 章 統計と Python\n",
    "\n",
    "## 1.1 データと統計学\n",
    "* 統計学、統計的な手法とはどういうものか？\n",
    "* 記述統計と推計統計とはどういうものか？\n",
    "* 本書の構成はどのようなものか？\n",
    "\n",
    "## 1.2 プログラミング言語 Python が必要な理由\n",
    "* コンピューターで統計の解析をするには、どのような方法や環境があるか？\n",
    "* 統計の解析をするさまざまな環境の特徴はどのようなものか？ 特に Python を統計解析の道具として使うときの特徴はどのようなものか？\n",
    "\n",
    "## 1.3 プログラムを作って動かす環境\n",
    "Jupyter Notebook を使うのは久しぶりなので、リハビリの意味で本書のコードを実際に本ノートで実現してみよう："
   ]
  },
  {
   "cell_type": "code",
   "execution_count": 1,
   "metadata": {},
   "outputs": [
    {
     "name": "stdout",
     "output_type": "stream",
     "text": [
      "Hello world\n"
     ]
    }
   ],
   "source": [
    "print('Hello world')"
   ]
  },
  {
   "cell_type": "code",
   "execution_count": 3,
   "metadata": {},
   "outputs": [
    {
     "name": "stdout",
     "output_type": "stream",
     "text": [
      "2\n"
     ]
    }
   ],
   "source": [
    "x = 2\n",
    "print(x)"
   ]
  },
  {
   "cell_type": "code",
   "execution_count": 4,
   "metadata": {},
   "outputs": [
    {
     "name": "stdout",
     "output_type": "stream",
     "text": [
      "0.5\n",
      "1.5\n"
     ]
    }
   ],
   "source": [
    "x = 0.5\n",
    "print(x)\n",
    "y = x + 1\n",
    "print(y)"
   ]
  },
  {
   "cell_type": "code",
   "execution_count": 5,
   "metadata": {},
   "outputs": [
    {
     "name": "stdout",
     "output_type": "stream",
     "text": [
      "[1, 3, 5, 7, 9]\n",
      "1\n",
      "3\n",
      "5\n",
      "7\n",
      "9\n"
     ]
    }
   ],
   "source": [
    "x = [1, 3, 5, 7, 9]\n",
    "print(x)\n",
    "for u in x:\n",
    "    print(u)"
   ]
  },
  {
   "cell_type": "markdown",
   "metadata": {},
   "source": [
    "## 1.4 ライブラリパッケージのインストール\n",
    "本書で用いるサードパーティーパッケージの表がある。今持っていないのは `scikit-learn`, `statsmodels`, `factor_analyzer` の三つ。いずれも少なくとも `pip` でインストールできる。`conda` だとどうなるか。"
   ]
  },
  {
   "cell_type": "code",
   "execution_count": null,
   "metadata": {},
   "outputs": [],
   "source": []
  }
 ],
 "metadata": {
  "kernelspec": {
   "display_name": "Python 3",
   "language": "python",
   "name": "python3"
  },
  "language_info": {
   "codemirror_mode": {
    "name": "ipython",
    "version": 3
   },
   "file_extension": ".py",
   "mimetype": "text/x-python",
   "name": "python",
   "nbconvert_exporter": "python",
   "pygments_lexer": "ipython3",
   "version": "3.6.5"
  }
 },
 "nbformat": 4,
 "nbformat_minor": 2
}
