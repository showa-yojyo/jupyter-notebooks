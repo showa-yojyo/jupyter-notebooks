{
 "cells": [
  {
   "cell_type": "markdown",
   "metadata": {},
   "source": [
    "# 第 ４ 章 大数の法則と中心極限定理"
   ]
  },
  {
   "cell_type": "markdown",
   "metadata": {},
   "source": [
    "『はじめての確率論』（近代科学社、2011 年）読書ノート。\n",
    "\n",
    "本章では確率変数列を導入し、その収束の種類をいくつか紹介する。\n",
    "測度論由来の、微分積分で習った点列や関数列の収束とはまた別の、独自の収束概念がある。\n",
    "これらの収束概念に関する定理を極限定理と総称するようで、その中でも特に有名かつ有用な\n",
    "大数の法則と中心極限定理を最後に習う。"
   ]
  },
  {
   "cell_type": "markdown",
   "metadata": {},
   "source": [
    "## 4.1 確率変数の収束"
   ]
  },
  {
   "cell_type": "markdown",
   "metadata": {},
   "source": [
    "以下、次の記号を用いる。\n",
    "\n",
    "* $\\lbrace X_i \\rbrace,\\: i = 1, 2, \\dotsc$: 確率変数列。\n",
    "* $Y$: 確率変数。\n",
    "\n",
    "\n",
    "* 定義 4.1. **法則収束**\n",
    "\n",
    "  以下、次の記号を用いる。\n",
    "  \n",
    "  * $\\lbrace F_i\\rbrace,\\: i = 1, 2, \\dotsc$: 確率変数 $X_i$ の分布関数\n",
    "  * $F_Y$: 確率変数 $Y$ の分布関数\n",
    "\n",
    "  確率変数列 $\\lbrace X_i \\rbrace$ が確率変数 $Y$ に法則収束するとは、\n",
    "  分布関数 $F_Y$ の任意の連続点 $x$ において、次の極限が成り立つことをいう：\n",
    "  \n",
    "  $$\n",
    "  \\lim_{n \\to \\infty} F_n(x) = F_Y(x).\n",
    "  $$\n",
    "  \n",
    "  このことを次の記法のいずれかで表現することにする：\n",
    "\n",
    "  * $X_n \\to Y\\quad\\text{ in law}$\n",
    "  * $X_n \\to Y\\quad\\text{ in distribution}$\n",
    "  * $X_n \\overset{ d }{\\longrightarrow}Y$\n",
    "  \n",
    "測度論でいう「$X_n$ の分布 $F_n$ が $Y$ の分布 $F_Y$ に弱収束する」条件だ。\n",
    "\n",
    "  \n",
    "* 定義 4.2. **確率収束**\n",
    "\n",
    "  確率変数列 $\\lbrace X_i \\rbrace$ が確率変数 $Y$ に確率収束するとは、\n",
    "  次の極限が成り立つことをいう：\n",
    "  \n",
    "  $$\n",
    "  \\forall \\varepsilon > 0\n",
    "  \\left(\n",
    "  \\lim_{n \\to \\infty} P\\left(\\left|X_n - Y\\right| \\gt \\varepsilon\\right) = 0.\n",
    "  \\right)\n",
    "  $$\n",
    "  \n",
    "  このことを次の記法のいずれかで表現することにする：\n",
    "  \n",
    "  * $X_n \\to Y\\quad\\text{ in prob}$\n",
    "  * $X_n \\overset{ P }{\\longrightarrow}Y$\n",
    "\n",
    "これは特にコメントがない。\n",
    "\n",
    "\n",
    "* 定義 4.3. **概収束**\n",
    "\n",
    "  確率変数列 $\\lbrace X_i \\rbrace$ が確率変数 $Y$ に概収束するとは、\n",
    "  次の極限が成り立つことをいう：\n",
    "  \n",
    "  $$\n",
    "  \\begin{split}\n",
    "  &P\\left(\\lim_{n \\to \\infty} \\left|X_n - Y\\right| = 0\\right) = 1, \\text{ i.e. }\\\\\n",
    "  &P\\left(\\lbrace \\omega \\mid \\lim_{n \\to \\infty} X_n(\\omega) = Y(\\omega) \\rbrace\\right) = 1.\n",
    "  \\end{split}\n",
    "  $$\n",
    "  \n",
    "  * 事象の起こる確率がゼロでない $\\omega$ のそれぞれについて確率変数の値が一致すれば、といっている。\n",
    "\n",
    "  このことを次の記法のいずれかで表現することにする：\n",
    "  \n",
    "  * $X_n \\to Y\\quad\\text{ a.s.}$\n",
    "  * $X_n \\to Y\\quad\\text{ a.e.}$\n",
    "  * $X_n \\to Y\\quad\\text{ with prob. 1}$\n",
    "\n",
    "\n",
    "* 定理 4.1. 収束の強弱\n",
    "\n",
    "  1. 概収束 implies 確率収束\n",
    "  2. 確率収束 implies 法則収束 \n",
    "\n",
    "  ほとんど確実に収束するのが最強であり、各点収束みたいな収束が最弱だ。\n",
    "\n",
    "  証明は別の教科書でやるか。"
   ]
  },
  {
   "cell_type": "markdown",
   "metadata": {},
   "source": [
    "## 4.2 大数の法則"
   ]
  },
  {
   "cell_type": "markdown",
   "metadata": {},
   "source": [
    "確率変数列 $X_i$ を独立で同分布に従うものとする。\n",
    "共通する期待値と分散をそれぞれ $\\mu, \\sigma^2$ とおく。\n",
    "\n",
    "* このとき次が成り立つ：\n",
    "  $$\n",
    "  \\begin{split}\n",
    "  E[X_1 + \\dotsb + X_n] &= n\\mu,\\\\\n",
    "  V(X_1 + \\dotsb + X_n) &= n\\sigma^2.\n",
    "  \\end{split}\n",
    "  $$\n",
    "\n",
    "* 定義 4.4. 確率変数列の**標本平均**\n",
    "\n",
    "  確率変数級数の最初の $n$ 項からなる部分和の算術平均を標本平均といい、バーを付けて表す。\n",
    "\n",
    "  $$\n",
    "  \\bar{X}_n = \\dfrac{X_1 + \\dotsb + X_n}{n}.\n",
    "  $$\n",
    "\n",
    "標本平均の期待値と分散はこうなる：\n",
    "\n",
    "$$\n",
    "E[\\bar{X}_n] = \\mu,\\quad V(\\bar{X}_n) = \\dfrac{\\sigma^2}{n}\n",
    "$$\n",
    "\n",
    "* 定理 4.2. **大数の弱法則**\n",
    "\n",
    "  独立確率変数列 $X_i$ について、$E[X_i] \\lt \\infty$, $V(X_i) \\lt \\infty$ ならば次が成り立つ：\n",
    "\n",
    "  $$\n",
    "  \\dfrac{X_1 + \\dotsb + X_n}{n} \\to \\mu\\quad\\text{ in prob}.\n",
    "  $$\n",
    "  \n",
    "  証明\n",
    "  1. この確率変数列の標本平均を $\\bar{X}_n$ とする。期待値、分散をそれぞれ $\\mu, \\dfrac{\\sigma^2}{n}$ とおく。\n",
    "  2. あとで出る定理 4.4. より次が言える：\n",
    "     $$\n",
    "     P\\left(\n",
    "       \\left|\\bar{X}_n - \\mu\\right| \\ge \\varepsilon\n",
    "     \\right)\n",
    "     \\le\n",
    "     \\frac{\\sigma^2}{n\\varepsilon}.\n",
    "     $$\n",
    "     \n",
    "  3. $n \\to \\infty$ とすると、右辺はゼロへの確率収束を意味する。\n",
    "\n",
    "\n",
    "* 定理 4.3. Markov の不等式\n",
    "\n",
    "  * $X$: 確率変数\n",
    "  * $h(X)$: 非負関数\n",
    "  * $E[h(X)] \\lt \\infty$\n",
    "  \n",
    "  とする。このとき次が成り立つ：\n",
    "  \n",
    "  $$\n",
    "  \\forall a > 0 \\left(P(h(X) \\ge a) \\le \\frac{1}{a} E[h(X)].\\right)\n",
    "  $$\n",
    "  \n",
    "  証明：\n",
    "  1. $h(X)$ が $a$ を超えるかどうかで値 $a$ をとる確率変数 $Y$ を定義する。\n",
    "  2. 挟み撃ち評価 $0 \\le Y \\le h(X)$ ができたので、\n",
    "     期待値についても $E[Y] \\le E[h(X)]$ が成り立つ。\n",
    "  3. この期待値評価より上の不等式が成り立つ。\n",
    "\n",
    "\n",
    "* 定理 4.4. **Chebyshev の不等式**\n",
    "\n",
    "  確率変数 $X$ について $V(X) \\lt \\infty$ ならば次が成り立つ：\n",
    "  $$\n",
    "  \\forall \\varepsilon > 0 \\left(\n",
    "  P\\left(\\left|X - E[X]\\right| \\ge \\varepsilon\\right) \\le \\frac{V(X)}{\\varepsilon^2}.\n",
    "  \\right)\n",
    "  $$\n",
    "  \n",
    "  証明：\n",
    "  1. $h(X) = \\left|X - E[X]\\right|^2,\\ a = \\varepsilon^2$ とおく。\n",
    "  2. 定理 4.3. により次が成り立つ：\n",
    "     $$\n",
    "     P\\left(\\left|X - E[X]\\right|^2 \\ge \\varepsilon^2\\right)\n",
    "     \\le \\frac{1}{\\varepsilon^2} E\\left[\\left|X - E[X]\\right|^2\\right]\n",
    "     = \\frac{V(X)}{\\varepsilon^2}.\n",
    "     $$\n",
    "  3. $P\\left(\\left|X - E[X]\\right|^2 \\ge \\varepsilon^2\\right) = P\\left(\\left|X - E[X]\\right| \\ge \\varepsilon\\right)$\n",
    "     だから結論の不等式を得る。\n",
    "\n",
    "  * この不等式を謎ソートアルゴリズム lazy-select の計算量評価に応用する話が出てくる。後で読んでおく。\n",
    "\n",
    "* 定理 4.5. **大数の強法則**\n",
    "\n",
    "  同一分布をもつ独立確率変数列 $X_i$ について、$E[X_i] = \\mu \\lt \\infty$ ならば次が成り立つ：\n",
    "\n",
    "  $$\n",
    "  \\dfrac{X_1 + \\dotsb + X_n}{n} \\to \\mu\\quad\\text{ a.s.}\n",
    "  $$\n",
    "  \n",
    "  * 証明は専門書を見るしかない。\n",
    "  * 十分条件しか主張していないが、実は必要条件でもあるらしい。\n",
    "    期待値が有限であることが効いているというのは本書の序盤で触れていた。\n",
    "\n",
    "\n",
    "* 大数の法則の例\n",
    "  * ある日本の保険会社のある保険商品について、保険加入者数が多ければ多いほど、\n",
    "    死亡年齢の標本平均は日本人の平均寿命に近い値を取る。\n",
    "  * 宝くじを買い過ぎると、標本平均が期待値に近い値、つまり元が取れない額面に近くなる。\n"
   ]
  },
  {
   "cell_type": "markdown",
   "metadata": {},
   "source": [
    "## 4.3 中心極限定理"
   ]
  },
  {
   "cell_type": "markdown",
   "metadata": {},
   "source": [
    "冒頭の中心極限定理の着想は覚えておく。\n",
    "つまり、部分和を $n$ で割るのはおもしろくない。\n",
    "もっと小さい何かで割ればおもしろい値に収束するということだ。\n",
    "\n",
    "* 定理 4.6. **中心極限定理**\n",
    "\n",
    "  同一分布をもつ独立確率変数列 $X_i$ について、\n",
    "  * $\\mu$ を共通の期待値、\n",
    "  * $\\sigma^2$ を分散、\n",
    "  * $S_n$ をこの確率変数列の部分和とする。\n",
    "  \n",
    "  このとき $0 < \\sigma^2 < \\infty$ ならば、次の収束が成り立つ：\n",
    "  $$\n",
    "  \\frac{S_n - n\\mu}{\\sigma\\sqrt{n}} \\overset{ d }{\\longrightarrow} N(0, 1),\\quad n \\to \\infty.\n",
    "  $$\n",
    "  あるいは\n",
    "  $$\n",
    "  \\forall a \\forall b > a\n",
    "  \\left(\n",
    "      \\lim_{n \\to \\infty}\n",
    "      P\\left(\n",
    "          a \\le \\frac{S_n - n\\mu}{\\sigma\\sqrt{n}} \\le b\n",
    "      \\right)\n",
    "      =\n",
    "      \\frac{1}{\\sqrt{2\\pi}}\n",
    "      \\int_a^b\\!\n",
    "          \\exp\\left({-\\frac{x^2}{2}}\\right)\n",
    "      \\,\\mathrm{d}x\n",
    "  .\\right)\n",
    "  $$\n",
    "  \n",
    "  * あとで証明をさがす。\n",
    "\n",
    "\n",
    "* 定理 4.7. **de Moivre-Laplace の定理**\n",
    "\n",
    "  成功確率が $p\\ (0 < p < 1)$ であるような $n$ 回の Bernoulli 試行列 $X_i$ について次が成り立つ：\n",
    "  $$\n",
    "  \\frac{S_n - np}{\\sqrt{np(1-p)}} \\overset{ d }{\\longrightarrow} N(0, 1),\\quad n \\to \\infty.\n",
    "  $$\n",
    "  あるいは\n",
    "  $$\n",
    "  \\forall x\n",
    "  \\left(\n",
    "      \\lim_{n \\to \\infty}\n",
    "      P\\left(\n",
    "          \\frac{S_n - np}{\\sqrt{np(1-p)}}\n",
    "          < x\n",
    "      \\right)\n",
    "      =\n",
    "      \\frac{1}{\\sqrt{2\\pi}}\n",
    "      \\int_{-\\infty}^x\\!\n",
    "          \\exp\\left({-\\frac{t^u}{2}}\\right)\n",
    "      \\,\\mathrm{d}u\n",
    "  .\\right)\n",
    "  $$\n",
    "  \n",
    "  * 部分和 $S_n = X_1 + \\dotsb + X_n$ は成功回数を意味する。\n",
    "  * あとで証明をさがす。中心極限定理はこれの一般化だ。"
   ]
  },
  {
   "cell_type": "markdown",
   "metadata": {},
   "source": [
    "## 練習問題"
   ]
  },
  {
   "cell_type": "markdown",
   "metadata": {},
   "source": [
    "どちらも de Moivre-Laplace の定理にあてはめる応用だ。\n",
    "本章では Python の出番が少なかったので、ここで無理に利用する。"
   ]
  },
  {
   "cell_type": "code",
   "execution_count": 1,
   "metadata": {},
   "outputs": [],
   "source": [
    "from math import sqrt\n",
    "from scipy.stats import norm\n",
    "\n",
    "def dML(S_n, n, p):\n",
    "    return (S_n - n * p) / sqrt(n * p * (1 - p))"
   ]
  },
  {
   "cell_type": "markdown",
   "metadata": {},
   "source": [
    "### 問 1. 硬貨投げ"
   ]
  },
  {
   "cell_type": "markdown",
   "metadata": {},
   "source": [
    "* $S_n$: この Bernoulli 試行の成功回数\n",
    "* $p$: 表が出る確率 (= 1/2)\n",
    "\n",
    "とおく。求めるものは\n",
    "\n",
    "* $P(4900 \\le S_n \\le 5100)$\n",
    "\n",
    "まず"
   ]
  },
  {
   "cell_type": "code",
   "execution_count": 2,
   "metadata": {},
   "outputs": [
    {
     "data": {
      "text/plain": [
       "[-2.0, 2.0]"
      ]
     },
     "execution_count": 2,
     "metadata": {},
     "output_type": "execute_result"
    }
   ],
   "source": [
    "x = [dML(i, 10000, 1/2) for i in (4900, 5100)]; x"
   ]
  },
  {
   "cell_type": "markdown",
   "metadata": {},
   "source": [
    "定理 4.7. の下の式を参考にすると $x = -2, 2$ の正規分布関数の値がわかればよいことになる。\n",
    "あとはいつもどおりの正規分布表の検索作業で、\n",
    "\n",
    "$$\n",
    "\\begin{align*}\n",
    "P(4900 \\le S_n \\le 5100)\n",
    "&= P(S_n < 5100) - P(S_n < 4900)\\\\\n",
    "&= P(X < 2) - P(X < -2)\\\\\n",
    "&= 2 P(0 < X < 2)\\\\\n",
    "&= 2 \\cdot .4772\\\\\n",
    "&= .9544\n",
    "\\end{align*}\n",
    "$$"
   ]
  },
  {
   "cell_type": "code",
   "execution_count": 3,
   "metadata": {},
   "outputs": [
    {
     "data": {
      "text/plain": [
       "0.95449973610364158"
      ]
     },
     "execution_count": 3,
     "metadata": {},
     "output_type": "execute_result"
    }
   ],
   "source": [
    "norm.cdf(x[-1]) - norm.cdf(x[0])"
   ]
  },
  {
   "cell_type": "markdown",
   "metadata": {},
   "source": [
    "### 問 2 サイコロ投げ"
   ]
  },
  {
   "cell_type": "markdown",
   "metadata": {},
   "source": [
    "* $S_n$ : この Bernoulli 試行の成功回数\n",
    "* $p$: 3 の目が出る確率 (= 1/6)\n",
    "\n",
    "求めるものは\n",
    "\n",
    "* $P(S_{120} \\ge 30)$"
   ]
  },
  {
   "cell_type": "code",
   "execution_count": 4,
   "metadata": {},
   "outputs": [
    {
     "data": {
      "text/plain": [
       "2.449489742783178"
      ]
     },
     "execution_count": 4,
     "metadata": {},
     "output_type": "execute_result"
    }
   ],
   "source": [
    "x = dML(30, 120, 1/6); x"
   ]
  },
  {
   "cell_type": "markdown",
   "metadata": {},
   "source": [
    "標準正規分布表の 2.45 の値 .4929 を採用すると、\n",
    "\n",
    "$$\n",
    "P(S_{120} \\ge 30) = P(X > 2.45) = 0.5 - P(0 < X < 2.45) = 0.0071\n",
    "$$"
   ]
  },
  {
   "cell_type": "code",
   "execution_count": 5,
   "metadata": {},
   "outputs": [
    {
     "data": {
      "text/plain": [
       "0.007152939217714871"
      ]
     },
     "execution_count": 5,
     "metadata": {},
     "output_type": "execute_result"
    }
   ],
   "source": [
    "1 - norm.cdf(x)"
   ]
  },
  {
   "cell_type": "code",
   "execution_count": null,
   "metadata": {},
   "outputs": [],
   "source": []
  }
 ],
 "metadata": {
  "kernelspec": {
   "display_name": "Python 3",
   "language": "python",
   "name": "python3"
  },
  "language_info": {
   "codemirror_mode": {
    "name": "ipython",
    "version": 3
   },
   "file_extension": ".py",
   "mimetype": "text/x-python",
   "name": "python",
   "nbconvert_exporter": "python",
   "pygments_lexer": "ipython3",
   "version": "3.6.6"
  }
 },
 "nbformat": 4,
 "nbformat_minor": 2
}
