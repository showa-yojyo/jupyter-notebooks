{
 "cells": [
  {
   "cell_type": "markdown",
   "metadata": {},
   "source": [
    "# 第３章 多変数の分布"
   ]
  },
  {
   "cell_type": "markdown",
   "metadata": {},
   "source": [
    "『はじめての確率論』（近代科学社、2011 年）読書ノート。"
   ]
  },
  {
   "cell_type": "markdown",
   "metadata": {},
   "source": [
    "## 3.1 確率変数の独立"
   ]
  },
  {
   "cell_type": "markdown",
   "metadata": {},
   "source": [
    "多変数関数ならぬ多確率変数を考える準備？\n",
    "\n",
    "* 定義 3.1. **独立**\n",
    "\n",
    "  確率変数 $X, Y$ が独立であるとは、次の等式が任意の区間 $I, J$ について成り立つことをいう：\n",
    "  \n",
    "  $$\n",
    "  P(X \\in I, Y \\in J) = P(X \\in I) P(Y \\in J).\n",
    "  $$\n",
    "\n",
    "\n",
    "* 定義 3.2. **独立**\n",
    "\n",
    "  確率変数 $X_1, ..., X_n$ が独立であるとは、次の等式が任意の区間 $I_1, ..., I_n$ について成り立つことをいう：\n",
    "  \n",
    "  $$\n",
    "  P(X_1 \\in I_1, ..., X_n \\in I_n) = \\prod_{i = 1}^n P(X_i \\in I_i).\n",
    "  $$\n",
    "\n",
    "\n",
    "* 命題 3.1. 離散的確率変数の場合はよりわかりやすい形に書ける。\n",
    "\n",
    "  確率変数 $X, Y$ が独立である条件は $\\forall a, b \\in \\mathbb{R} (P(X = a, Y = b) = P(X = a)P(Y = b)).$\n",
    "  \n",
    "\n",
    "* **同時分布、結合分布** とは、複数の確率変数を組にしたものだ。例えば $(X, Y)$ のようなものだ。\n",
    "\n",
    "  * 確率変数 $X, Y$ がともに連続的ならば、それらの同時分布も密度関数 $f_{X, Y}(x, y)$ を持つ。\n",
    "    これにより確率が定義される：\n",
    "    \n",
    "    $$\n",
    "    P(X \\in I, Y \\in J) = \\iint_{x \\in I, y \\in J}\\! f_{X, Y}(x, y)\\,\\mathrm{d}x\\mathrm{d}y.\n",
    "    $$\n",
    "\n",
    "\n",
    "* **周辺分布** とは、反対に同時分布の「成分」である確率分布のことだ。\n",
    "\n",
    "  密度関数 $f_{X, Y}(x, y)$ をもつ同時分布 $(X, Y)$ について、各周辺分布の密度関数は次のように定まる：\n",
    "  \n",
    "  $$\n",
    "  \\begin{align*}\n",
    "  f_X(x) &= \\int_{-\\infty}^{\\infty}\\! f_{X, Y}(x, y)\\,\\mathrm{d}y,\\\\\n",
    "  f_Y(y) &= \\int_{-\\infty}^{\\infty}\\! f_{X, Y}(x, y)\\,\\mathrm{d}x,\\\\\n",
    "  \\end{align*}\n",
    "  $$\n",
    "\n",
    "\n",
    "* 命題 3.2. 連続的確率変数が独立である条件\n",
    "\n",
    "  * $X, Y$ を連続的確率変数、\n",
    "  * その密度関数をそれぞれ $f_X(x), f_Y(y)$ とし、\n",
    "  * 同時分布 $(X, Y)$ の密度関数を $f_{X, Y}(x, y)$ とする。\n",
    "  \n",
    "  このとき、確率変数 $X, Y$ が独立である条件は $\\forall x, y \\in \\mathbb{R} (f_{X, Y}(x, y) = f_X(x) f_Y(y)).$\n"
   ]
  },
  {
   "cell_type": "markdown",
   "metadata": {},
   "source": [
    "## 3.2 共分散と相関係数"
   ]
  },
  {
   "cell_type": "markdown",
   "metadata": {},
   "source": [
    "* 定理 3.3. 独立な確率変数の期待値\n",
    "\n",
    "  $$\n",
    "  E[XY] = E[X]E[Y]\n",
    "  $$\n",
    "\n",
    "  証明は確率変数が離散的か連続的かで分ける。\n",
    "\n",
    "\n",
    "* 定義 3.3. **共分散**\n",
    "\n",
    "  * $X, Y$ を確率変数とし、\n",
    "  * $E[X^2] < \\infty, E[Y^2] < \\infty$\n",
    "  \n",
    "  であるとする。このとき次の式で定義される量を二つの確率変数の共分散という。\n",
    "  \n",
    "  $$\n",
    "  \\operatorname{Cov}(X, Y) = E[(X - E[X])(Y - E[Y])]\n",
    "  $$\n",
    "  \n",
    "\n",
    "* 命題 3.4. $\\operatorname{Cov}(X, Y) = E[XY] - E[X]E[Y]$\n",
    "\n",
    "  定義 3.3. の式を期待値の性質に従い展開すると証明できる。\n",
    "  \n",
    "  \n",
    "* 命題 3.5. 共分散に関する演算の性質（対称性、線形性、分散との関係、独立な場合の値）\n",
    "\n",
    "\n",
    "* 定理 3.6. 二つの確率変数の分散\n",
    "\n",
    "  $a, b \\in \\mathbb{R}$ について次が成り立つ。特に $X, Y$ が独立ならば共分散の項がゼロになってわかりやすい。\n",
    "\n",
    "  $$\n",
    "  V(aX + bY) = a^2 V(X) + b^2 V(Y) + 2ab \\operatorname{Cov}(X, Y).\n",
    "  $$\n",
    "  \n",
    "  直接証明することができる。\n",
    "  \n",
    "同じデータであっても単位系が違うと共分散の値も全然違う。\n",
    "これだと確率変数同士の比較が不便なので、ある種の正規化を考えるのがよい。\n",
    "そこで、共分散の値を確率変数両方の標準偏差で割って、値の絶対値が 1 で抑えたものを扱う。\n",
    "\n",
    "* 定義 3.4. **相関係数**\n",
    "\n",
    "  確率変数 $X, Y$ の分散 $V(X), V(Y)$ が存在するとき、両者の相関係数を次の式で定義する。\n",
    "\n",
    "  $$\n",
    "  \\rho(X, Y) = \\dfrac{\\operatorname{Cov}(X, Y)}{\\sqrt{V(X)}\\sqrt{V(Y)}}\n",
    "  $$\n",
    "  \n",
    "  * この量は両者の関連の強度を示していると考えられる。\n",
    "  * この量の符号と共分散の符号が一致する。\n",
    "  \n",
    "\n",
    "* 命題 3.7. 相関係数の性質\n",
    "\n",
    "  1. $-1 \\le \\rho(X, Y) \\le 1$ の証明はどこからひねり出したものだろうという感じだが、最後は二次式の理論に帰着させて納得できる。\n",
    "  2. $X, Y$ が独立であれば、共分散がゼロであり、相関係数もゼロである。ところで逆はどうだろうか。一般には成り立たない。\n",
    "  3. $X, Y$ が一次式の形で従属している条件は $|\\rho(X, Y)| = 1$ というのはおもしろい。\n",
    "  4. $(a, b, c, d \\in \\mathbb{R}) \\land (ac > 0) \\to \\rho(aX + b, cX + d) = \\rho(X, Y).$\n",
    "     分母分子のキャンセルが同符号なのでという仕組み。"
   ]
  },
  {
   "cell_type": "markdown",
   "metadata": {},
   "source": [
    "## 3.3 たたみこみ（合成積）"
   ]
  },
  {
   "cell_type": "markdown",
   "metadata": {},
   "source": [
    "* ここで考察するのは確率変数同士の和だ。なお、この節では相異なる確率変数は独立であるものとする。\n",
    "* 本書では離散的・連続的と場合分けして定義なり定理の証明なりを述べることがふつうだが、\n",
    "  測度論を避けたからこういう構成になったのではないだろうか。\n",
    "  この辺の事情をうまく説明できるようになるといいものだ。\n",
    "  \n",
    "\n",
    "* 定義 3.5. **たたみこみ**（離散的確率変数版）\n",
    "\n",
    "  * $X, Y$: 独立な離散的確率変数、\n",
    "  * $p_X, p_Y$: $X, Y$ それぞれの確率関数、\n",
    "  * $R_X, R_Y$: $X, Y$ それぞれの取りうる値の（有限？）集合、\n",
    "  * $R = \\{ n_X x + n_Y y \\mid n_x, n_y \\in \\mathbb{Z}, x, y \\in R_X \\cup R_Y \\}$\n",
    "  \n",
    "  とする。このとき次で定義される値を $p_X$ と $p_Y$ のたたみこみという。\n",
    "  \n",
    "  $$\n",
    "  p_Y * p_X = \\sum_{y \\in R} p_Y(x - y) p_X(y)\n",
    "  $$\n",
    "\n",
    "\n",
    "* 定義 3.6. **たたみこみ**（連続的確率変数版）\n",
    "\n",
    "  * $X, Y$: 独立な連続的確率変数、\n",
    "  * $f_X, f_Y$: $X, Y$ それぞれの密度関数\n",
    "  \n",
    "  とする。このとき次で定義される値を $f_X$ と $f_Y$ のたたみこみという。\n",
    "  \n",
    "  $$\n",
    "  (f_Y * f_X)(z) = \\int_{-\\infty}^\\infty\\! f_Y(z - x) f_X(x)\\,\\mathrm{d}x\n",
    "  $$\n",
    "\n",
    "$X + Y$ の密度関数は上のたたみこみと一致する。\n",
    "同時分布の密度関数が周辺分布の密度関数同士の積であることが効いている。\n",
    "\n",
    "確率変数がどちらも非負であると仮定すれば、$f_X(z) = f_Y(z) = 0, \\text{ if } z < 0$ ゆえ密度関数を次のように書ける：\n",
    "\n",
    "  $$\n",
    "  (f_Y * f_X)(z) = \\int_0^z\\!f_Y(z - x) f_X(x)\\,\\mathrm{d}x,\\quad 0 < z.\n",
    "  $$\n",
    "\n",
    "* 命題 3.8. たたみこみの性質\n",
    "\n",
    "  どれも積分の性質から示される。"
   ]
  },
  {
   "cell_type": "markdown",
   "metadata": {},
   "source": [
    "## 3.4 多変数の分布に関する例"
   ]
  },
  {
   "cell_type": "markdown",
   "metadata": {},
   "source": [
    "### 3.4.1 修理車と故障車の位置"
   ]
  },
  {
   "cell_type": "markdown",
   "metadata": {},
   "source": [
    "状況をまとめる。\n",
    "* 故障車と修理車が高速道路に分布している。\n",
    "* 高速道路を実数区間 $[0, 1]$ で表現する。\n",
    "* 確率変数 $X$ は高速道路における故障車のいる位置を表し、一様分布 $U(0, 1)$ に従う。\n",
    "  * $X$ の密度関数を $f_X$ とする。\n",
    "* 確率変数 $Y$ はその修理車バージョン。\n",
    "  * $Y$ の密度関数を $f_Y$ とする。\n",
    "* $X$ と $Y$ は独立であると仮定する。\n",
    "\n",
    "ここまでに現れる各種関数のすべてが定義域を実数全体にとるものの、区間外では 0 を値とする。\n",
    "\n",
    "* 従属確率変数 $Z = |Y - X|$ を考察する。\n",
    "  * $Z$ の分布関数と密度関数をそれぞれ $F, f_Z$ とする。\n",
    "\n",
    "* $F(z) = P(Z \\le z) = P(X \\le Y \\le X + z) + P(X - z \\le Y \\le X)$ から次の積分と次ページの図が現れる意味がわからなければ、p. 76 の (3.3) をじっくり見て考えること。\n",
    "\n",
    "念のため、期待値と分散の求め方を書く。\n",
    "\n",
    "$$\n",
    "\\begin{align*}\n",
    "E[Z] &= \\int_{-\\infty}^\\infty\\! z f_z(Z)\\,dz\\\\\n",
    "&= \\int_0^1 \\! 2z(1 - z)\\,dz\\\\\n",
    "&= \\left[z^2 - \\frac{2}{3} z^3 \\right]_0^1\\\\\n",
    "&= 1^2 - \\frac{2}{3} 1^3 - 0^2 - \\frac{2}{3} 0^3\\\\\n",
    "&= 1 - \\frac{2}{3} - 0 - 0\\\\\n",
    "&= \\frac{1}{3}.\n",
    "\\end{align*}\n",
    "$$\n",
    "\n",
    "$$\n",
    "\\begin{align*}\n",
    "E[Z^2] &= \\int_{-\\infty}^\\infty\\! z^2 f_z(Z)\\,dz\\\\\n",
    "&= \\int_0^1 \\! 2z^2(1 - z)\\,dz\\\\\n",
    "&= \\left[\\frac{2}{3} z^3 - \\frac{1}{2}z^4 \\right]_0^1\\\\\n",
    "&= \\frac{1}{6},\\\\\n",
    "V(Z) &= E[Z^2] - E[Z]^2\\\\\n",
    "&= \\frac{1}{6} - \\left(\\frac{1}{3}\\right)^2\\\\\n",
    "&= \\frac{1}{18}.\n",
    "\\end{align*}\n",
    "$$"
   ]
  },
  {
   "cell_type": "markdown",
   "metadata": {},
   "source": [
    "### 3.4.2 スケジューリング"
   ]
  },
  {
   "cell_type": "markdown",
   "metadata": {},
   "source": [
    "状況をまとめる。\n",
    "* 機械が 2 台あり、次々くる修理タスクが公平に割り当てられる。\n",
    "* 確率変数 $X_i,\\: i = 1,\\dotsc, n$ を修理タスクの処理時間。\n",
    "  * 各処理時間は $[0, 1]$ 上の一様分布に従う。\n",
    "* 確率変数 $W_i,\\: i = 1,\\dotsc, n$ を、$i$ 番目のタスクを割り当てたあとの、\n",
    "  2 台の機械の処理が終わる時間差。\n",
    "  * $W_1 = X_1.$ それ以外は $W_i = \\left|W_{i - 1} - X_i\\right|.$\n",
    "  * 密度関数を $f_i(z),\\: i = 1,\\dotsc, n$ とする。\n",
    "  * 分布関数を $F_i(z),\\: i = 1,\\dotsc, n$ とする。\n",
    "  \n",
    "密度関数と分布関数を順次求める。\n",
    "\n",
    "$$\n",
    "f_1(z) = \n",
    "\\begin{cases}\n",
    "1, &\\quad 0 \\le z \\le 1\\\\\n",
    "0, &\\quad z < 0, 1 < z\n",
    "\\end{cases}\n",
    "$$\n",
    "\n",
    "ところで $W_2 = \\left|W_1 - X_2\\right| = \\left|X_1 - X_2\\right|$ である。\n",
    "$f_2, F_2$ について前節のものと同じであることがわかる。\n",
    "\n",
    "実は $i = 3$ 以降も同じ密度関数、分布関数であることがわかる。\n",
    "ゆえに期待値と分散も同じだ。\n",
    "* 二つの機械が処理する時間差の期待値（平均値）が 1/3 ということになる。"
   ]
  },
  {
   "cell_type": "markdown",
   "metadata": {},
   "source": [
    "### 3.4.3 売上分析"
   ]
  },
  {
   "cell_type": "markdown",
   "metadata": {},
   "source": [
    "* 確率変数 $X$: 一定時間における来客数。次の Poisson 分布に従うとする：\n",
    "  $$\n",
    "  P(X = k) = \\frac{(\\lambda t)^k}{k!} \\mathrm{e}^{-\\lambda t}\n",
    "  $$\n",
    "  * $k$: 客数\n",
    "  * $t$: 時間間隔\n",
    "  * $\\lambda$: 客数平均\n",
    "* 確率変数 $Y$: 各客の購入品目数。離散的な分布であるとする：\n",
    "  $$\n",
    "  \\begin{cases}\n",
    "  P(Y = j) = p_j,&\\quad j = 1, 2, ...\\\\\n",
    "  P(Y = 0) = 0,& \\quad \\text{otherwise}\n",
    "  \\end{cases}\n",
    "  $$\n",
    "* 確率変数 $Z_k$: $k$ 人の客の合計購入品目数とする。\n",
    "\n",
    "「～の合計」で確率変数を定義したので、次の等式が成り立つ：\n",
    "$$\n",
    "P(Z_k = j) = \\sum_{i = k - 1}^{j - 1} P(Z_{k - 1} = i),\\quad k = 2, 3, ...\n",
    "$$\n",
    "\n",
    "確率変数 $X$ と確率変数 $Z_k$ をかけあわせて、時間間隔 $t$ における\n",
    "総購入品目数が $j$ である確率を表現できる：\n",
    "$$\n",
    "P(総売上量 = j) = \\sum_{k = 0}^\\infty \\frac{(\\lambda t)^k}{k!} \\mathrm{e}^{-\\lambda t} P(Z_k = j)\n",
    "$$\n"
   ]
  },
  {
   "cell_type": "markdown",
   "metadata": {},
   "source": [
    "### 3.4.4 在庫管理の基本式"
   ]
  },
  {
   "cell_type": "markdown",
   "metadata": {},
   "source": [
    "* $L > 0$: 注文してからモノが届くまでの時間。Latency ということか。\n",
    "* 確率変数 $D_L$: $L$ 日間の需要量。\n",
    "  * 独立同時分布な確率変数の和であるので、一日分の需要量が $N(\\mu, \\sigma^2)$ に従うと仮定するのならば、\n",
    "    $$\n",
    "    E[D_L] = \\mu L,\\qquad V(D_L) = \\sigma^2 L\n",
    "    $$\n",
    "    が成り立つ。\n",
    "\n",
    "\n",
    "以下、$L$ が定数ではなく確率変数である場合を考える。\n",
    "さらに、待機時間内の需要量 $D$ も正規分布に従うと仮定する。\n",
    "\n",
    "* 期待値は $E[D] = \\mu E[L]$ でよい。\n",
    "* 分散を求めるには $E[D^2]$ を求めなければならない。\n",
    "\n",
    "  1. ここで先程の $L$ が定数の場合に立ち戻る。\n",
    "     $$\n",
    "     V(D_L) = \\sigma^2 L = E[D_L^2] - E[D_L]^2\n",
    "     $$\n",
    "     だから単純に移項して\n",
    "     $$E[D_L^2] = \\sigma^2 L + E[D_L]^2 = \\sigma^2 L + (\\mu L)^2.\n",
    "     $$\n",
    "  2. $L$ が確率変数の場合にはこうなると思われる：\n",
    "     $$\n",
    "     E[D^2] = \\sigma^2 E[L] + \\mu^2 E[L]^2\n",
    "     $$\n",
    "  3. 公式にあてはめて分散を表す：\n",
    "     $$\n",
    "     \\begin{align*}\n",
    "     V(D) &= E[D^2] - E[D]^2\\\\\n",
    "          &= \\sigma^2 E[L] + \\mu^2 E[L]^2 - (\\mu E[L])^2\\\\\n",
    "          &= \\sigma^2 E[L] + \\mu^2 \\left(E[L]^2 - E[L]^2\\right)\\\\\n",
    "          &= \\sigma^2 E[L] + \\mu^2 V(L).\n",
    "     \\end{align*}\n",
    "     $$\n",
    "\n"
   ]
  },
  {
   "cell_type": "markdown",
   "metadata": {},
   "source": [
    "### 3.4.5 複数の小売店から倉庫への発注量"
   ]
  },
  {
   "cell_type": "markdown",
   "metadata": {},
   "source": [
    "仮定をまとめる：\n",
    "* 各小売店の一日ぶんの需要量は独立同時分布な確率変数であり、\n",
    "  * 期待値が $d$,\n",
    "  * 分散が $\\sigma^2$\n",
    "  である。\n",
    "* $n \\in \\mathbb{N}$: 小売店舗数\n",
    "* $R \\in \\mathbb{N}$: 各小売店が何日ペースで一度発注するか。\n",
    "* $D$: 卸売需要量（確率変数）\n",
    "\n",
    "すぐに得られる事実：\n",
    "各小売店の $R$ 日ぶんの需要量の\n",
    "  * 期待値が $Rd$,\n",
    "  * 分散が $R\\sigma^2$\n",
    "である。\n",
    "\n",
    "目標は需要量に対する $E[D]$ および $V(D)$ を求めることだ。\n",
    "各店舗の発注方式に応じて値が変わってくることを本件では見ていく。\n",
    "\n",
    "* 確率変数 $N$: 各日に発注する店舗数\n",
    "  \n",
    "  $N$ に関する期待値、分散を求めれば次の関係から $D$ に関するそれが求まる：\n",
    "  \n",
    "  $$\n",
    "  E[D] = RdE[N].\n",
    "  $$"
   ]
  },
  {
   "cell_type": "markdown",
   "metadata": {},
   "source": [
    "#### 同時発注\n",
    "全店舗一斉発注モード。\n",
    "\n",
    "$$\n",
    "\\begin{align*}\n",
    "E[N] &= \\frac{n}{R},\\\\ \n",
    "V[N] &= E[N^2] - E[N]^2\\\\\n",
    "&= \\frac{n^2}{R} - \\left(\\frac{n}{R}\\right)^2\\\\\n",
    "\\end{align*}\n",
    "$$\n",
    "\n",
    "よって $E[D] = Rd \\cdot \\dfrac{n}{R} = nd.$ \n",
    "\n",
    "$V[D]$ の計算途中で $E[D^2]$ が必要だ。これは前節の $V(D_L)$ の求め方と同様にする。\n",
    "$$\n",
    "\\begin{align*}\n",
    "V(D) &= E[D^2] - E[D]^2\\\\\n",
    "&= (R\\sigma^2 E[N] + R^2d^2 E[N^2]) - (Rd E[N])^2\\\\\n",
    "&= R\\sigma^2 E[N] +  R^2d^2 \\left(E[N^2] - E[N]^2\\right)\\\\\n",
    "&= n\\sigma^2 + R^2d^2 V(N)\\\\\n",
    "&= n\\sigma^2 + R^2d^2\\left(\\frac{n^2}{R} - \\left(\\frac{n}{R}\\right)^2\\right)\\\\\n",
    "&= \\dots\n",
    "\\end{align*}\n",
    "$$"
   ]
  },
  {
   "cell_type": "markdown",
   "metadata": {},
   "source": [
    "#### スケジュール発注\n",
    "* わかりやすさのため $n$ が $R$ の整数倍の関係にあるとする。\n",
    "* 各小売店が均等に発注日を設定することで、次のようにとれる：\n",
    "\n",
    "  $$\n",
    "  \\begin{align*}\n",
    "  E[N] &= \\frac{n}{R},\\\\\n",
    "  V(N) &= 0.\n",
    "  \\end{align*}\n",
    "  $$\n",
    "  \n",
    "よって $E[D] = nd.$\n",
    "\n",
    "$V[D]$ も前節と同様にして求める。"
   ]
  },
  {
   "cell_type": "markdown",
   "metadata": {},
   "source": [
    "#### ランダム発注\n",
    "各小売店がランダムに確率 $\\dfrac{1}{R}$ で発注する場合、\n",
    "すなわち **$N$ が二項分布 $B\\left(n, \\dfrac{1}{R}\\right)$ に従う**場合。\n",
    "\n",
    "二項分布の性質より $N$ の期待値と分散はすぐにわかる：\n",
    "$$\n",
    "\\begin{align*}\n",
    "E[N] &= n \\cdot \\dfrac{1}{R}\\\\ &= \\dfrac{n}{R},\\\\\n",
    "V(N) &= n R \\left(1 - \\dfrac{1}{R}\\right).\n",
    "\\end{align*}\n",
    "$$\n",
    "$E[D], V(D)$ を前節までと同様にして求める。"
   ]
  },
  {
   "cell_type": "markdown",
   "metadata": {},
   "source": [
    "#### 各発注方式比較\n",
    "分散を見ればいいのか。\n",
    "\n",
    "|発注方式           |$E[N]$        |$V(N)$                              |$E[D]$      |$V(D)$                          |\n",
    "|:-----------------:|:------------:|:----------------------------------:|:----------:|:------------------------------:|\n",
    "|同時               |$\\dfrac{n}{R}$|$n^2\\left(\\dfrac{1 - 1/R}{R}\\right)$|$nd$        |$n\\sigma^2 + d^2n^2(R - 1)$     |\n",
    "|スケジュール       |$\\dfrac{n}{R}$|$0$                                 |$nd$        |$n\\sigma^2$                     |\n",
    "|ランダム           |$\\dfrac{n}{R}$|$n  \\left(\\dfrac{1 - 1/R}{R}\\right)$|$nd$        |$n\\sigma^2 + d^2n(R - 1)$       |"
   ]
  },
  {
   "cell_type": "markdown",
   "metadata": {},
   "source": [
    "## 練習問題"
   ]
  },
  {
   "cell_type": "markdown",
   "metadata": {},
   "source": [
    "### 1 確率変数 $X, Y$ が独立であるときの計算"
   ]
  },
  {
   "cell_type": "markdown",
   "metadata": {},
   "source": [
    "計算方法は、与えられた式を $E[X], E[Y], V(X), V(Y)$ の多項式に展開して $\\operatorname{Cov}(X, Y) = 0$ を利用するのが正攻法だ。\n",
    "本文では設問の条件を満たす確率変数を具体的に構成するのが容易なので、SymPy に評価させる方法も使える："
   ]
  },
  {
   "cell_type": "code",
   "execution_count": 1,
   "metadata": {},
   "outputs": [
    {
     "name": "stdout",
     "output_type": "stream",
     "text": [
      "5\n",
      "4\n",
      "10\n",
      "10\n",
      "9\n",
      "2\n",
      "8\n",
      "4/5\n"
     ]
    }
   ],
   "source": [
    "from sympy.stats import E, variance as V, covariance as Cov, correlation as rho\n",
    "from sympy.stats import Normal\n",
    "X = Normal('X', 1, 1)\n",
    "Y = Normal('Y', 2, 1)\n",
    "\n",
    "q = (\n",
    "    E(3*X + Y),\n",
    "    E(3*X + 1),\n",
    "    V(3*X + Y),\n",
    "    V(3*X - Y),\n",
    "    V(3*X - 1),\n",
    "    E(X**2),\n",
    "    Cov(3*X + Y, 3*X - Y),\n",
    "    rho(3*X + Y, 3*X - Y),)\n",
    "\n",
    "for i in q: print(i)"
   ]
  },
  {
   "cell_type": "markdown",
   "metadata": {},
   "source": [
    "### 2 確率変数  $X, Y$  が従属であるときの計算"
   ]
  },
  {
   "cell_type": "markdown",
   "metadata": {},
   "source": [
    "前問の設問設定で $\\operatorname{Cov}(X, Y) = -1$ になっただけといえる。"
   ]
  },
  {
   "cell_type": "markdown",
   "metadata": {},
   "source": [
    "### 3 確率変数 $X + Y$ の密度関数"
   ]
  },
  {
   "cell_type": "markdown",
   "metadata": {},
   "source": [
    "たたみこみを計算する問題だ。独立な $X, Y$ の密度関数を $f_X, f_Y$ とそれぞれおく。\n",
    "二つの確率変数はどちらも別個の指数分布 $\\operatorname{Exp}(1)$ に従うので、例えば次のようになっている。\n",
    "$$\n",
    "f_X(x) = \n",
    "\\begin{cases}\n",
    "0, &\\quad x < 0\\\\\n",
    "\\mathrm{e}^{-x}, &\\quad 0 <= x\n",
    "\\end{cases}\n",
    "$$\n",
    "定義 3.6. ではなく p. 87 の式を利用する：\n",
    "$$\n",
    "\\begin{align*}\n",
    "(f_Y * f_X)(z) &= \\int_0^z \\!f_X(x) f_Y(z - x)\\,\\mathrm{d}x\\\\\n",
    "&= \\int_0^z \\!\\mathrm{e}^{-x} \\mathrm{e}^{z - x}\\,\\mathrm{d}x\\\\\n",
    "&= \\mathrm{e}^z \\int_0^z \\!\\,\\mathrm{d}x\\\\\n",
    "&= z \\mathrm{e}^z.\n",
    "\\end{align*}\n",
    "$$\n",
    "定義域を実数全体に戻すのを忘れずに。求める密度関数は次のものだ：\n",
    "$$\n",
    "(f_Y * f_X)(z) = \n",
    "\\begin{cases}\n",
    "0, &\\quad z < 0\\\\\n",
    "z \\mathrm{e}^{-z}, &\\quad 0 <= z\n",
    "\\end{cases}\n",
    "$$"
   ]
  },
  {
   "cell_type": "code",
   "execution_count": null,
   "metadata": {},
   "outputs": [],
   "source": []
  }
 ],
 "metadata": {
  "kernelspec": {
   "display_name": "Python 3",
   "language": "python",
   "name": "python3"
  },
  "language_info": {
   "codemirror_mode": {
    "name": "ipython",
    "version": 3
   },
   "file_extension": ".py",
   "mimetype": "text/x-python",
   "name": "python",
   "nbconvert_exporter": "python",
   "pygments_lexer": "ipython3",
   "version": "3.6.6"
  }
 },
 "nbformat": 4,
 "nbformat_minor": 2
}
