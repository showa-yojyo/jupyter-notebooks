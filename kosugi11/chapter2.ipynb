{
 "cells": [
  {
   "cell_type": "markdown",
   "metadata": {},
   "source": [
    "# 第 2 章 いろいろな分布とその解析"
   ]
  },
  {
   "cell_type": "markdown",
   "metadata": {},
   "source": [
    "『はじめての確率論』（近代科学社、2011 年）読書ノート。\n",
    "\n",
    "本章では有名な確率変数分布の確率関数・密度関数を見ていき、期待と分散を計算していく。\n",
    "前章と同様に SymPy を活用していくが、数値計算では SciPy の `scipy.stats` モジュールを利用する。"
   ]
  },
  {
   "cell_type": "markdown",
   "metadata": {},
   "source": [
    "## 2.1 二項分布"
   ]
  },
  {
   "cell_type": "markdown",
   "metadata": {},
   "source": [
    "**二項分布**とは成功する確率が $p$ である試行を $n$ 回独立に反復するときの、成功する回数をあらわす確率変数分布である。\n",
    "\n",
    "* 上のような試行を Bernoulli trials という。\n",
    "* パラメーターが $n, p$ のふたつあるので確率関数を $B(n, p)$ のように表す。さらに 便宜上 $q = 1 - p$ とおく。\n",
    "\n",
    "  $$\n",
    "  \\begin{align*}\n",
    "  P(X = k) = B(n, p) = \n",
    "  \\begin{pmatrix}\n",
    "  n \\\\ k\n",
    "  \\end{pmatrix}\n",
    "  p^k q^{n - k},\n",
    "  \\quad k = 0, 1, ..., n.\n",
    "  \\end{align*}\n",
    "  $$\n",
    "* この確率関数について $k$ についての総和をとると 1 になる。\n",
    "* 二項分布の期待値がおもしろい。$B(n, p) = 1 = (p + q)^n$ の両辺を $p$ で微分すると勝手に出てくる。\n",
    "\n",
    "  $$\n",
    "  E[X] = np.\n",
    "  $$\n",
    "\n",
    "* 二項分布の分散の求め方も同様だが、期待値を先に計算しておく必要がある。\n",
    "  $$\n",
    "  V(X) = npq.\n",
    "  $$\n"
   ]
  },
  {
   "cell_type": "markdown",
   "metadata": {},
   "source": [
    "SymPy を使って分布関数、期待値、分散を観察してみよう。"
   ]
  },
  {
   "cell_type": "code",
   "execution_count": 52,
   "metadata": {},
   "outputs": [],
   "source": [
    "from sympy import init_printing, And, S, symbols, simplify, factor\n",
    "init_printing(use_latex=True)\n",
    "from sympy.stats import density, cdf, E, P, variance as V"
   ]
  },
  {
   "cell_type": "markdown",
   "metadata": {},
   "source": [
    "確率関数を確認してから分布関数を調べる。\n",
    "確率分布オブジェクトを生成してからメソッド `pdf()` を呼び出すと確率関数らしきものが得られる。\n",
    "分布関数を見るには関数 `cdf()` を使る。"
   ]
  },
  {
   "cell_type": "code",
   "execution_count": 53,
   "metadata": {},
   "outputs": [
    {
     "data": {
      "image/png": "[encoded data removed]",
      "text/latex": [
       "$$\\begin{cases} 3 p \\left(- p + 1\\right)^{2} & \\text{for}\\: p = 1 \\\\3 p^{2} \\left(- p + 1\\right) & \\text{for}\\: p = 2 \\\\p^{3} & \\text{for}\\: p = 3 \\\\0 & \\text{otherwise} \\end{cases}$$"
      ],
      "text/plain": [
       "⎧            2           \n",
       "⎪3⋅p⋅(-p + 1)   for p = 1\n",
       "⎪                        \n",
       "⎪   2                    \n",
       "⎪3⋅p ⋅(-p + 1)  for p = 2\n",
       "⎨                        \n",
       "⎪      3                 \n",
       "⎪     p         for p = 3\n",
       "⎪                        \n",
       "⎪      0        otherwise\n",
       "⎩                        "
      ]
     },
     "execution_count": 53,
     "metadata": {},
     "output_type": "execute_result"
    }
   ],
   "source": [
    "from sympy.stats import Binomial\n",
    "n = S.One * 3\n",
    "p = symbols('p', positive=True)\n",
    "X = Binomial('X', n, p)\n",
    "density(X).pdf(p)"
   ]
  },
  {
   "cell_type": "code",
   "execution_count": 54,
   "metadata": {},
   "outputs": [
    {
     "data": {
      "image/png": "[encoded data removed]",
      "text/latex": [
       "$$\\left \\{ 0 : - \\left(p - 1\\right)^{3}, \\quad 1 : \\left(p - 1\\right)^{2} \\left(2 p + 1\\right), \\quad 2 : - p^{3} + 1, \\quad 3 : 1\\right \\}$$"
      ],
      "text/plain": [
       "⎧           3            2                  3          ⎫\n",
       "⎨0: -(p - 1) , 1: (p - 1) ⋅(2⋅p + 1), 2: - p  + 1, 3: 1⎬\n",
       "⎩                                                      ⎭"
      ]
     },
     "execution_count": 54,
     "metadata": {},
     "output_type": "execute_result"
    }
   ],
   "source": [
    "# cdf(X)\n",
    "{k: simplify(v) for k, v in cdf(X).items()}"
   ]
  },
  {
   "cell_type": "markdown",
   "metadata": {},
   "source": [
    "次に期待値と分散を見る。それぞれ関数 `E()` および `variance()` を用いる。"
   ]
  },
  {
   "cell_type": "code",
   "execution_count": 55,
   "metadata": {},
   "outputs": [
    {
     "data": {
      "image/png": "[encoded data removed]",
      "text/latex": [
       "$$3 p$$"
      ],
      "text/plain": [
       "3⋅p"
      ]
     },
     "execution_count": 55,
     "metadata": {},
     "output_type": "execute_result"
    }
   ],
   "source": [
    "simplify(E(X))"
   ]
  },
  {
   "cell_type": "code",
   "execution_count": 56,
   "metadata": {},
   "outputs": [
    {
     "data": {
      "image/png": "[encoded data removed]",
      "text/latex": [
       "$$3 p \\left(- p + 1\\right)$$"
      ],
      "text/plain": [
       "3⋅p⋅(-p + 1)"
      ]
     },
     "execution_count": 56,
     "metadata": {},
     "output_type": "execute_result"
    }
   ],
   "source": [
    "simplify(V(X))"
   ]
  },
  {
   "cell_type": "markdown",
   "metadata": {},
   "source": [
    "## 2.2 Poisson 分布"
   ]
  },
  {
   "cell_type": "markdown",
   "metadata": {},
   "source": [
    "**Poisson 分布** とはまれにしか起こらない現象について大量のデータをとったときに、発生する現象の個数をあらわす分布である。\n",
    "\n",
    "* 記号は本書と代えて $P(\\lambda)$ としておく。母数 $\\lambda$ は正であるものとする。\n",
    "\n",
    "  $$\n",
    "  P(X = k) = P(\\lambda) = \\frac{\\mathrm{e}^{-\\lambda} \\lambda^k}{k!},\\quad k = 0, 1, 2, ...\n",
    "  $$\n",
    "  \n",
    "* これも $k$ に関する無限級数が 1 になる。\n",
    "* 期待値と分散の求め方は、形式的に $\\lambda$ について微分を考える数式変形によるものだ。\n",
    "\n",
    "  $$\n",
    "  \\begin{align*}\n",
    "  E[X] &= \\lambda,\\\\\n",
    "  V(X) &= \\lambda.\n",
    "  \\end{align*}\n",
    "  $$"
   ]
  },
  {
   "cell_type": "code",
   "execution_count": 57,
   "metadata": {},
   "outputs": [
    {
     "data": {
      "image/png": "[encoded data removed]",
      "text/latex": [
       "$$\\frac{\\lambda^{k} e^{- \\lambda}}{k!}$$"
      ],
      "text/plain": [
       "       k  -\\lambda\n",
       "\\lambda ⋅ℯ        \n",
       "──────────────────\n",
       "        k!        "
      ]
     },
     "execution_count": 57,
     "metadata": {},
     "output_type": "execute_result"
    }
   ],
   "source": [
    "from sympy.stats import Poisson\n",
    "la = symbols(r'\\lambda', positive=True)\n",
    "k = symbols('k', integer=True)\n",
    "X = Poisson('X', la)\n",
    "density(X).pdf(k)"
   ]
  },
  {
   "cell_type": "code",
   "execution_count": 58,
   "metadata": {},
   "outputs": [
    {
     "data": {
      "image/png": "[encoded data removed]",
      "text/latex": [
       "$$\\begin{cases} 1 - \\frac{\\gamma\\left(x + 1, \\lambda\\right)}{\\Gamma\\left(x + 1\\right)} & \\text{for}\\: x \\geq 0 \\\\0 & \\text{otherwise} \\end{cases}$$"
      ],
      "text/plain": [
       "⎧    γ(x + 1, \\lambda)           \n",
       "⎪1 - ─────────────────  for x ≥ 0\n",
       "⎨         Γ(x + 1)               \n",
       "⎪                                \n",
       "⎩          0            otherwise"
      ]
     },
     "execution_count": 58,
     "metadata": {},
     "output_type": "execute_result"
    }
   ],
   "source": [
    "x = symbols('x')\n",
    "simplify(cdf(X)(x))"
   ]
  },
  {
   "cell_type": "code",
   "execution_count": 59,
   "metadata": {},
   "outputs": [
    {
     "data": {
      "image/png": "[encoded data removed]",
      "text/latex": [
       "$$\\lambda$$"
      ],
      "text/plain": [
       "\\lambda"
      ]
     },
     "execution_count": 59,
     "metadata": {},
     "output_type": "execute_result"
    }
   ],
   "source": [
    "simplify(E(X))"
   ]
  },
  {
   "cell_type": "code",
   "execution_count": 60,
   "metadata": {},
   "outputs": [
    {
     "data": {
      "image/png": "[encoded data removed]",
      "text/latex": [
       "$$\\lambda$$"
      ],
      "text/plain": [
       "\\lambda"
      ]
     },
     "execution_count": 60,
     "metadata": {},
     "output_type": "execute_result"
    }
   ],
   "source": [
    "simplify(V(X))"
   ]
  },
  {
   "cell_type": "markdown",
   "metadata": {},
   "source": [
    "## 2.3 二項分布の Poisson 近似"
   ]
  },
  {
   "cell_type": "markdown",
   "metadata": {},
   "source": [
    "$B(n, p)$ において $p$ が十分小さい値であるとする。このとき、$n$ が十分大きければ Poisson 分布に近似できる。つまり、何か $p$ に収束する数列 $\\{ p_n\\}$ が、各項が $0 \\lt p_n \\lt 1$ となるようにとれて $n p_n \\to \\lambda\\ (n \\to \\infty)$ のときに\n",
    "\n",
    "$$\n",
    "\\lim_{n \\to \\infty} B(n, p_n) = P(\\lambda).\n",
    "$$\n",
    "\n",
    "となる。"
   ]
  },
  {
   "cell_type": "markdown",
   "metadata": {},
   "source": [
    "## 2.4 幾何分布"
   ]
  },
  {
   "cell_type": "markdown",
   "metadata": {},
   "source": [
    "**幾何分布**とは離散的確率変数分布であって、\n",
    "\n",
    "1. 成功する確率が $p\\ (0 \\lt p \\lt 1)$ であるような試行を反復して、\n",
    "2. 初めて成功するまでの失敗の回数を表す\n",
    "\n",
    "ものだ。例によって便宜的に $q = 1 - p$ とおく（失敗する確率そのものだが）。\n",
    "\n",
    "記号は本書と代えて $G(p)$ にしておく：\n",
    "$$\n",
    "P(X = k) = G(p) = p q^k,\\quad k = 0, 1, ...\n",
    "$$\n",
    "\n",
    "期待値および分散の求め方は、$G(p)$ を $q$ で形式的に微分して式変形することで得られる。\n",
    "$$\n",
    "\\begin{align*}\n",
    "E[X] &= \\frac{q}{p},\\\\\n",
    "V(X) &= \\frac{q}{p^2}.\n",
    "\\end{align*}\n",
    "$$"
   ]
  },
  {
   "cell_type": "markdown",
   "metadata": {},
   "source": [
    "## 2.5 First Success 分布"
   ]
  },
  {
   "cell_type": "markdown",
   "metadata": {},
   "source": [
    "確率変数 $X$ が first success 分布に従うとは、確率変数 $X - 1$ が幾何分布 $G(p)$ に従うことと同じだ。"
   ]
  },
  {
   "cell_type": "markdown",
   "metadata": {},
   "source": [
    "SymPy の `sympy.stats.Geometric` は実装を見ると first success 分布を表現しているようだ。"
   ]
  },
  {
   "cell_type": "code",
   "execution_count": 61,
   "metadata": {},
   "outputs": [],
   "source": [
    "from sympy.stats import Geometric\n",
    "p = symbols('p', positive=True)\n",
    "#p = S.One / 3\n",
    "X = Geometric('X', p)"
   ]
  },
  {
   "cell_type": "code",
   "execution_count": 62,
   "metadata": {},
   "outputs": [
    {
     "data": {
      "image/png": "[encoded data removed]",
      "text/latex": [
       "$$p \\left(- p + 1\\right)^{k - 1}$$"
      ],
      "text/plain": [
       "          k - 1\n",
       "p⋅(-p + 1)     "
      ]
     },
     "execution_count": 62,
     "metadata": {},
     "output_type": "execute_result"
    }
   ],
   "source": [
    "k = symbols('k', natural=True)\n",
    "density(X).pdf(k)"
   ]
  },
  {
   "cell_type": "code",
   "execution_count": 63,
   "metadata": {},
   "outputs": [
    {
     "data": {
      "image/png": "[encoded data removed]",
      "text/latex": [
       "$$\\begin{cases} - \\left(- p + 1\\right)^{x} + 1 & \\text{for}\\: x \\geq 1 \\\\0 & \\text{otherwise} \\end{cases}$$"
      ],
      "text/plain": [
       "⎧          x               \n",
       "⎪- (-p + 1)  + 1  for x ≥ 1\n",
       "⎨                          \n",
       "⎪       0         otherwise\n",
       "⎩                          "
      ]
     },
     "execution_count": 63,
     "metadata": {},
     "output_type": "execute_result"
    }
   ],
   "source": [
    "simplify(cdf(X)(x))"
   ]
  },
  {
   "cell_type": "code",
   "execution_count": 64,
   "metadata": {
    "scrolled": true
   },
   "outputs": [
    {
     "data": {
      "image/png": "[encoded data removed]",
      "text/latex": [
       "$$\\begin{cases} \\frac{1}{p} & \\text{for}\\: \\left|{p - 1}\\right| < 1 \\\\- \\frac{p \\sum_{X=1}^{\\infty} X \\left(- p + 1\\right)^{X}}{p - 1} & \\text{otherwise} \\end{cases}$$"
      ],
      "text/plain": [
       "⎧          1                           \n",
       "⎪          ─            for │p - 1│ < 1\n",
       "⎪          p                           \n",
       "⎪                                      \n",
       "⎪     ∞                                \n",
       "⎪    ___                               \n",
       "⎪    ╲                                 \n",
       "⎨     ╲             X                  \n",
       "⎪-p⋅  ╱   X⋅(-p + 1)                   \n",
       "⎪    ╱                                 \n",
       "⎪    ‾‾‾                               \n",
       "⎪   X = 1                              \n",
       "⎪─────────────────────     otherwise   \n",
       "⎪        p - 1                         \n",
       "⎩                                      "
      ]
     },
     "execution_count": 64,
     "metadata": {},
     "output_type": "execute_result"
    }
   ],
   "source": [
    "simplify(E(X))"
   ]
  },
  {
   "cell_type": "code",
   "execution_count": 65,
   "metadata": {},
   "outputs": [
    {
     "data": {
      "image/png": "[encoded data removed]",
      "text/latex": [
       "$$\\begin{cases} - \\frac{p - 1}{p^{2}} & \\text{for}\\: \\left|{p - 1}\\right| < 1 \\\\\\begin{cases} - \\frac{p - 1}{p^{2}} & \\text{for}\\: \\left|{p - 1}\\right| < 1 \\\\- \\frac{p \\left(p^{2} \\left(\\left(\\sum_{X=1}^{\\infty} X \\left(- p + 1\\right)^{X}\\right)^{2}\\right) \\sum_{X=1}^{\\infty} \\left(- p + 1\\right)^{X} + 2 p^{2} \\left(\\sum_{X=1}^{\\infty} X \\left(- p + 1\\right)^{X}\\right)^{2} + p^{2} \\sum_{X=1}^{\\infty} X^{2} \\left(- p + 1\\right)^{X} - 2 p \\left(\\sum_{X=1}^{\\infty} X \\left(- p + 1\\right)^{X}\\right)^{2} - 2 p \\sum_{X=1}^{\\infty} X^{2} \\left(- p + 1\\right)^{X} + \\sum_{X=1}^{\\infty} X^{2} \\left(- p + 1\\right)^{X}\\right)}{p^{3} - 3 p^{2} + 3 p - 1} & \\text{otherwise} \\end{cases} & \\text{otherwise} \\end{cases}$$"
      ],
      "text/plain": [
       "⎧                                                                             \n",
       "⎪                                                                             \n",
       "⎪                                                                             \n",
       "⎪                                                                             \n",
       "⎪                                                                             \n",
       "⎪⎧                                                                            \n",
       "⎪⎪                                                                            \n",
       "⎪⎪                                                                            \n",
       "⎪⎪                                                                            \n",
       "⎪⎪                                                                            \n",
       "⎪⎪   ⎛                      2                                           2     \n",
       "⎨⎪   ⎜   ⎛  ∞              ⎞    ∞                    ⎛  ∞              ⎞      \n",
       "⎪⎪   ⎜   ⎜ ___             ⎟   ___                   ⎜ ___             ⎟      \n",
       "⎪⎨   ⎜   ⎜ ╲               ⎟   ╲                     ⎜ ╲               ⎟      \n",
       "⎪⎪   ⎜ 2 ⎜  ╲             X⎟    ╲           X      2 ⎜  ╲             X⎟     2\n",
       "⎪⎪-p⋅⎜p ⋅⎜  ╱   X⋅(-p + 1) ⎟ ⋅  ╱   (-p + 1)  + 2⋅p ⋅⎜  ╱   X⋅(-p + 1) ⎟  + p \n",
       "⎪⎪   ⎜   ⎜ ╱               ⎟   ╱                     ⎜ ╱               ⎟      \n",
       "⎪⎪   ⎜   ⎜ ‾‾‾             ⎟   ‾‾‾                   ⎜ ‾‾‾             ⎟      \n",
       "⎪⎪   ⎝   ⎝X = 1            ⎠  X = 1                  ⎝X = 1            ⎠      \n",
       "⎪⎪────────────────────────────────────────────────────────────────────────────\n",
       "⎪⎪                                                                            \n",
       "⎪⎩                                                                           p\n",
       "⎩                                                                             \n",
       "\n",
       "            -(p - 1)                                                          \n",
       "            ─────────                                                         \n",
       "                 2                                                            \n",
       "                p                                                             \n",
       "                                                                              \n",
       "    -(p - 1)                                                                  \n",
       "    ─────────                                                                 \n",
       "         2                                                                    \n",
       "        p                                                                     \n",
       "                                                                              \n",
       "                                             2                                \n",
       "   ∞                      ⎛  ∞              ⎞          ∞                    ∞ \n",
       "  ___                     ⎜ ___             ⎟         ___                  ___\n",
       "  ╲                       ⎜ ╲               ⎟         ╲                    ╲  \n",
       "   ╲    2         X       ⎜  ╲             X⎟          ╲    2         X     ╲ \n",
       "⋅  ╱   X ⋅(-p + 1)  - 2⋅p⋅⎜  ╱   X⋅(-p + 1) ⎟  - 2⋅p⋅  ╱   X ⋅(-p + 1)  +   ╱ \n",
       "  ╱                       ⎜ ╱               ⎟         ╱                    ╱  \n",
       "  ‾‾‾                     ⎜ ‾‾‾             ⎟         ‾‾‾                  ‾‾‾\n",
       " X = 1                    ⎝X = 1            ⎠        X = 1                X = \n",
       "──────────────────────────────────────────────────────────────────────────────\n",
       "3      2                                                                      \n",
       "  - 3⋅p  + 3⋅p - 1                                                            \n",
       "                                                                              \n",
       "\n",
       "                                                  \n",
       "                                   for │p - 1│ < 1\n",
       "                                                  \n",
       "                                                  \n",
       "                                                  \n",
       "                                                  \n",
       "                  for │p - 1│ < 1                 \n",
       "                                                  \n",
       "                                                  \n",
       "                                                  \n",
       "              ⎞                                   \n",
       "              ⎟                                   \n",
       "              ⎟                                   \n",
       "              ⎟                       otherwise   \n",
       "   2         X⎟                                   \n",
       "  X ⋅(-p + 1) ⎟                                   \n",
       "              ⎟                                   \n",
       "              ⎟                                   \n",
       "1             ⎠                                   \n",
       "────────────────     otherwise                    \n",
       "                                                  \n",
       "                                                  \n",
       "                                                  "
      ]
     },
     "execution_count": 65,
     "metadata": {},
     "output_type": "execute_result"
    }
   ],
   "source": [
    "simplify(V(X))"
   ]
  },
  {
   "cell_type": "markdown",
   "metadata": {},
   "source": [
    "## 2.6 負の二項分布"
   ]
  },
  {
   "cell_type": "markdown",
   "metadata": {},
   "source": [
    "* 定義 2.1. 二項係数\n",
    "  * 省略\n",
    "\n",
    "\n",
    "* 定義 2.2. **負の二項係数**\n",
    "  * 二項係数の $n$ の値が負であっても次の計算ができるので、そのように二項係数の定義を拡張したものを負の二項係数と呼ぶ。\n",
    "\n",
    "    $$\n",
    "    \\begin{pmatrix}\n",
    "    -n \\\\ k\n",
    "    \\end{pmatrix}\n",
    "    = \\frac{(-n)(-n-1)\\dotsb(-n-k+1)}{k!},\n",
    "    \\quad n \\in \\mathbb{N},\\ k \\in \\mathbb{N}.\n",
    "    $$\n",
    "  \n",
    "* 負の二項係数により、二項展開がべき乗が負の場合にまで一般化できる。\n",
    "\n",
    "**負の二項分布** とは負の二項係数で表現された二項分布である。記号は本書と代えて $NB(n, p)$ とする。この表記で $n \\gt 0$ であることをうっかりしないように。\n",
    "\n",
    "$$\n",
    "  \\begin{align*}\n",
    "  P(X = k) = NB(n, p) = \n",
    "  \\begin{pmatrix}\n",
    "  n + k - 1\\\\ n - 1\n",
    "  \\end{pmatrix}\n",
    "  p^k q^{n - k},\n",
    "  \\quad k = 0, 1, ..., n.\n",
    "  \\end{align*}\n",
    "$$\n",
    "\n",
    "* $n = 1$ の負の二項分布は幾何分布である：$NB(1, p) = G(p).$\n",
    "* 期待値と分散は通常の二項分布と同様に求められる。\n",
    "\n",
    "  $$\n",
    "  \\begin{align*}\n",
    "  E[X] &= \\frac{nq}{p},\\\\\n",
    "  V(X) &= \\frac{nq}{p^2}.\n",
    "  \\end{align*}\n",
    "  $$"
   ]
  },
  {
   "cell_type": "markdown",
   "metadata": {},
   "source": [
    "残念だが SymPy は負の二項分布を扱えないようだ。"
   ]
  },
  {
   "cell_type": "markdown",
   "metadata": {},
   "source": [
    "## 2.7 一様分布"
   ]
  },
  {
   "cell_type": "markdown",
   "metadata": {},
   "source": [
    "**一様分布**とは連続的確率変数の分布であり、ある区間で一様な密度を持つものをいう。\n",
    "* 区間は有界でなくてもよい。\n",
    "* 密度関数は区間を $[a, b]$ とすると次で表現される：\n",
    "\n",
    "  $$\n",
    "  f(x) = \n",
    "  \\begin{cases}\n",
    "  \\dfrac{1}{b - a}, &\\quad a \\le x \\le b\\\\\n",
    "  0, &\\quad \\text{otherwise}.\n",
    "  \\end{cases}\n",
    "  $$\n",
    "  \n",
    "* 分布関数は $f(x)$ の積分であり、区間内で単調な一次式だ。\n",
    "* 期待値、分散は前章の要領で広義積分を計算して求める。\n",
    "\n",
    "  $$\n",
    "  \\begin{align*}\n",
    "  E[X] &= \\dfrac{a + b}{2},\n",
    "  V(X) &= \\dfrac{(b - a)^2}{12}.\n",
    "  \\end{align*}\n",
    "  $$"
   ]
  },
  {
   "cell_type": "markdown",
   "metadata": {},
   "source": [
    "SymPy では `sympy.stats.Uniform` が一様分布クラスとして使える。"
   ]
  },
  {
   "cell_type": "code",
   "execution_count": 66,
   "metadata": {},
   "outputs": [
    {
     "data": {
      "image/png": "[encoded data removed]",
      "text/latex": [
       "$$\\begin{cases} \\frac{1}{- a + b} & \\text{for}\\: b \\geq x \\wedge a \\leq x \\\\0 & \\text{otherwise} \\end{cases}$$"
      ],
      "text/plain": [
       "⎧  1                      \n",
       "⎪──────  for b ≥ x ∧ a ≤ x\n",
       "⎨-a + b                   \n",
       "⎪                         \n",
       "⎩  0         otherwise    "
      ]
     },
     "execution_count": 66,
     "metadata": {},
     "output_type": "execute_result"
    }
   ],
   "source": [
    "from sympy.stats import Uniform\n",
    "a, b, x = symbols('a b x')\n",
    "X = Uniform('X', a, b)\n",
    "density(X)(x)"
   ]
  },
  {
   "cell_type": "code",
   "execution_count": 67,
   "metadata": {},
   "outputs": [
    {
     "data": {
      "image/png": "[encoded data removed]",
      "text/latex": [
       "$$\\begin{cases} 0 & \\text{for}\\: a > x \\\\\\frac{- a + x}{- a + b} & \\text{for}\\: b \\geq x \\\\1 & \\text{otherwise} \\end{cases}$$"
      ],
      "text/plain": [
       "⎧  0     for a > x\n",
       "⎪                 \n",
       "⎪-a + x           \n",
       "⎨──────  for b ≥ x\n",
       "⎪-a + b           \n",
       "⎪                 \n",
       "⎩  1     otherwise"
      ]
     },
     "execution_count": 67,
     "metadata": {},
     "output_type": "execute_result"
    }
   ],
   "source": [
    "cdf(X)(x)"
   ]
  },
  {
   "cell_type": "code",
   "execution_count": 68,
   "metadata": {
    "scrolled": true
   },
   "outputs": [
    {
     "data": {
      "image/png": "[encoded data removed]",
      "text/latex": [
       "$$\\frac{a}{2} + \\frac{b}{2}$$"
      ],
      "text/plain": [
       "a   b\n",
       "─ + ─\n",
       "2   2"
      ]
     },
     "execution_count": 68,
     "metadata": {},
     "output_type": "execute_result"
    }
   ],
   "source": [
    "simplify(E(X))"
   ]
  },
  {
   "cell_type": "code",
   "execution_count": 69,
   "metadata": {},
   "outputs": [
    {
     "data": {
      "image/png": "[encoded data removed]",
      "text/latex": [
       "$$\\frac{\\left(a - b\\right)^{2}}{12}$$"
      ],
      "text/plain": [
       "       2\n",
       "(a - b) \n",
       "────────\n",
       "   12   "
      ]
     },
     "execution_count": 69,
     "metadata": {},
     "output_type": "execute_result"
    }
   ],
   "source": [
    "factor(V(X))"
   ]
  },
  {
   "cell_type": "markdown",
   "metadata": {},
   "source": [
    "## 2.8 指数分布"
   ]
  },
  {
   "cell_type": "markdown",
   "metadata": {},
   "source": [
    "**指数分布**とは連続的確率変数の分布であって、パラメーター $\\lambda \\gt 0$ を使った次のような密度関数で表されるものだ：\n",
    "$$\n",
    "f(x) =\n",
    "\\begin{cases}\n",
    "\\lambda \\mathrm{e}^{-\\lambda x},&\\quad x \\ge 0\\\\\n",
    "0,&\\quad \\text{otherwise}.\n",
    "\\end{cases}\n",
    "$$\n",
    "* 窓口に客が来る時間間隔や、機械が故障してから修理されるまでの所要時間などを表すのに用いられる分布だ。\n",
    "* 分布関数は $x \\ge 0$ ならば次のようにして得られる（そうでないときはゼロ）：\n",
    "\n",
    "  $$\n",
    "  \\begin{align*}\n",
    "  F(x) &= \\int_0^x\\! \\lambda \\mathrm{e}^{-\\lambda x}\\,\\mathrm{d}x\\\\\n",
    "       &= 1 - \\mathrm{e}^{-\\lambda x}.\n",
    "  \\end{align*}\n",
    "  $$\n",
    "  \n",
    "* 期待値は $\\dfrac{1}{\\lambda}$ だ。簡単な積分計算による。\n",
    "* 分散は  $\\dfrac{1}{\\lambda^2}$ だ。"
   ]
  },
  {
   "cell_type": "markdown",
   "metadata": {},
   "source": [
    "SymPy では `sympy.stats.Exponential`が クラスが指数分布を表現している。"
   ]
  },
  {
   "cell_type": "code",
   "execution_count": 70,
   "metadata": {},
   "outputs": [
    {
     "data": {
      "image/png": "[encoded data removed]",
      "text/latex": [
       "$$\\lambda e^{- \\lambda x}$$"
      ],
      "text/plain": [
       "         -\\lambda⋅x\n",
       "\\lambda⋅ℯ          "
      ]
     },
     "execution_count": 70,
     "metadata": {},
     "output_type": "execute_result"
    }
   ],
   "source": [
    "from sympy.stats import Exponential\n",
    "X = Exponential('X', la)\n",
    "density(X)(x)"
   ]
  },
  {
   "cell_type": "code",
   "execution_count": 71,
   "metadata": {},
   "outputs": [
    {
     "data": {
      "image/png": "[encoded data removed]",
      "text/latex": [
       "$$\\begin{cases} 1 - e^{- \\lambda x} & \\text{for}\\: x \\geq 0 \\\\0 & \\text{otherwise} \\end{cases}$$"
      ],
      "text/plain": [
       "⎧     -\\lambda⋅x           \n",
       "⎪1 - ℯ            for x ≥ 0\n",
       "⎨                          \n",
       "⎪       0         otherwise\n",
       "⎩                          "
      ]
     },
     "execution_count": 71,
     "metadata": {},
     "output_type": "execute_result"
    }
   ],
   "source": [
    "cdf(X)(x)"
   ]
  },
  {
   "cell_type": "code",
   "execution_count": 72,
   "metadata": {},
   "outputs": [
    {
     "data": {
      "image/png": "[encoded data removed]",
      "text/latex": [
       "$$\\frac{1}{\\lambda}$$"
      ],
      "text/plain": [
       "   1   \n",
       "───────\n",
       "\\lambda"
      ]
     },
     "execution_count": 72,
     "metadata": {},
     "output_type": "execute_result"
    }
   ],
   "source": [
    "E(X)"
   ]
  },
  {
   "cell_type": "code",
   "execution_count": 73,
   "metadata": {},
   "outputs": [
    {
     "data": {
      "image/png": "[encoded data removed]",
      "text/latex": [
       "$$\\frac{1}{\\lambda^{2}}$$"
      ],
      "text/plain": [
       "   1    \n",
       "────────\n",
       "       2\n",
       "\\lambda "
      ]
     },
     "execution_count": 73,
     "metadata": {},
     "output_type": "execute_result"
    }
   ],
   "source": [
    "V(X)"
   ]
  },
  {
   "cell_type": "markdown",
   "metadata": {},
   "source": [
    "## 2.9 Cauchy 分布"
   ]
  },
  {
   "cell_type": "markdown",
   "metadata": {},
   "source": [
    "**Cauchy 分布**とは連続的確率変数の分布であって、密度関数が次のように二つの正のパラメーター $\\mu, \\sigma$ で表されるものだ：\n",
    "\n",
    "$$\n",
    "C(\\mu, \\sigma) = \\dfrac{\\sigma}{\\mu}\\dfrac{1}{(x - \\mu)^2 + \\sigma^2}\n",
    "$$\n",
    "\n",
    "* 期待値を計算しようとすると積分が発散するので、存在しないものとして考えられる。したがって分散も存在しない。"
   ]
  },
  {
   "cell_type": "code",
   "execution_count": 74,
   "metadata": {},
   "outputs": [],
   "source": [
    "from sympy.stats import Cauchy\n",
    "from sympy.abc import mu, sigma\n",
    "X = Cauchy('X', mu, sigma)"
   ]
  },
  {
   "cell_type": "code",
   "execution_count": 75,
   "metadata": {},
   "outputs": [
    {
     "data": {
      "image/png": "[encoded data removed]",
      "text/latex": [
       "$$\\frac{\\sigma}{\\pi \\left(\\sigma^{2} + \\left(\\mu - x\\right)^{2}\\right)}$$"
      ],
      "text/plain": [
       "        σ        \n",
       "─────────────────\n",
       "  ⎛ 2          2⎞\n",
       "π⋅⎝σ  + (μ - x) ⎠"
      ]
     },
     "execution_count": 75,
     "metadata": {},
     "output_type": "execute_result"
    }
   ],
   "source": [
    "simplify(density(X)(x))"
   ]
  },
  {
   "cell_type": "code",
   "execution_count": 76,
   "metadata": {},
   "outputs": [
    {
     "data": {
      "image/png": "[encoded data removed]",
      "text/latex": [
       "$$0$$"
      ],
      "text/plain": [
       "0"
      ]
     },
     "execution_count": 76,
     "metadata": {},
     "output_type": "execute_result"
    }
   ],
   "source": [
    "from sympy import integrate\n",
    "integrate(density(X)(x), (x, -S.Infinity, S.Infinity))"
   ]
  },
  {
   "cell_type": "code",
   "execution_count": 77,
   "metadata": {},
   "outputs": [
    {
     "data": {
      "image/png": "[encoded data removed]",
      "text/latex": [
       "$$\\frac{i \\left(- \\log{\\left (- \\mu - i \\sigma + x \\right )} + \\log{\\left (- \\mu + i \\sigma + x \\right )}\\right)}{2 \\pi}$$"
      ],
      "text/plain": [
       "ⅈ⋅(-log(-μ - ⅈ⋅σ + x) + log(-μ + ⅈ⋅σ + x))\n",
       "──────────────────────────────────────────\n",
       "                   2⋅π                    "
      ]
     },
     "execution_count": 77,
     "metadata": {},
     "output_type": "execute_result"
    }
   ],
   "source": [
    "simplify(cdf(X)(x))"
   ]
  },
  {
   "cell_type": "code",
   "execution_count": 78,
   "metadata": {},
   "outputs": [
    {
     "data": {
      "image/png": "[encoded data removed]",
      "text/latex": [
       "$$\\mathrm{NaN}$$"
      ],
      "text/plain": [
       "nan"
      ]
     },
     "execution_count": 78,
     "metadata": {},
     "output_type": "execute_result"
    }
   ],
   "source": [
    "E(X)"
   ]
  },
  {
   "cell_type": "code",
   "execution_count": 79,
   "metadata": {},
   "outputs": [
    {
     "data": {
      "image/png": "[encoded data removed]",
      "text/latex": [
       "$$\\mathrm{NaN}$$"
      ],
      "text/plain": [
       "nan"
      ]
     },
     "execution_count": 79,
     "metadata": {},
     "output_type": "execute_result"
    }
   ],
   "source": [
    "V(X)"
   ]
  },
  {
   "cell_type": "markdown",
   "metadata": {},
   "source": [
    "## 2.10 正規分布"
   ]
  },
  {
   "cell_type": "markdown",
   "metadata": {},
   "source": [
    "**正規分布**とは連続的確率変数の分布であり、もっとも多く扱われているものだ。\n",
    "期待値 $\\mu$ と分散 $\\sigma^2$ をパラメーターとして持つのが特徴であり、\n",
    "特に $E[X] = 0,\\ V(X) = 1$ のものを**標準正規分布**と呼ぶ。\n",
    "\n",
    "標準正規分布 $N(0, 1)$ の密度関数は次で表される：\n",
    "$$\n",
    "g(x) = \\dfrac{1}{\\sqrt{2\\pi}} \\exp \\left(-\\frac{x^2}{2}\\right).\n",
    "$$\n",
    "\n",
    "* この $g(x)$ の実数全体にわたる積分の値が 1 であることを見るのに重積分または複素数の正則関数の積分の知識がいるのだった。\n",
    "\n",
    "一般の正規分布 $N(\\mu, \\sigma^2)$ の密度関数は次で表される：\n",
    "$$\n",
    "f(x) = \\dfrac{1}{\\sqrt{2\\pi}\\sigma} \\exp \\left(-\\frac{(x - \\mu)^2}{2 \\sigma^2}\\right).\n",
    "$$\n"
   ]
  },
  {
   "cell_type": "markdown",
   "metadata": {},
   "source": [
    "* 分布関数は数値計算的に積分をしないと値がわからないようだ。\n",
    "* 期待値と分散の値は前述のとおり。"
   ]
  },
  {
   "cell_type": "code",
   "execution_count": 80,
   "metadata": {},
   "outputs": [],
   "source": [
    "from sympy.stats import Normal\n",
    "mu = symbols(r'\\mu')\n",
    "sigma = symbols(r'\\sigma', positive=True)\n",
    "X = Normal('X', mu, sigma)"
   ]
  },
  {
   "cell_type": "code",
   "execution_count": 81,
   "metadata": {},
   "outputs": [
    {
     "data": {
      "image/png": "[encoded data removed]",
      "text/latex": [
       "$$\\frac{\\sqrt{2} e^{- \\frac{\\left(- \\mu + x\\right)^{2}}{2 \\sigma^{2}}}}{2 \\sqrt{\\pi} \\sigma}$$"
      ],
      "text/plain": [
       "               2 \n",
       "    -(-\\mu + x)  \n",
       "    ─────────────\n",
       "              2  \n",
       "      2⋅\\sigma   \n",
       "√2⋅ℯ             \n",
       "─────────────────\n",
       "   2⋅√π⋅\\sigma   "
      ]
     },
     "execution_count": 81,
     "metadata": {},
     "output_type": "execute_result"
    }
   ],
   "source": [
    "density(X)(x)"
   ]
  },
  {
   "cell_type": "code",
   "execution_count": 82,
   "metadata": {},
   "outputs": [
    {
     "data": {
      "image/png": "[encoded data removed]",
      "text/latex": [
       "$$1$$"
      ],
      "text/plain": [
       "1"
      ]
     },
     "execution_count": 82,
     "metadata": {},
     "output_type": "execute_result"
    }
   ],
   "source": [
    "integrate(density(X)(x), (x, -S.Infinity, S.Infinity))"
   ]
  },
  {
   "cell_type": "code",
   "execution_count": 83,
   "metadata": {},
   "outputs": [
    {
     "data": {
      "image/png": "[encoded data removed]",
      "text/latex": [
       "$$\\mu$$"
      ],
      "text/plain": [
       "\\mu"
      ]
     },
     "execution_count": 83,
     "metadata": {},
     "output_type": "execute_result"
    }
   ],
   "source": [
    "simplify(E(X))"
   ]
  },
  {
   "cell_type": "code",
   "execution_count": 84,
   "metadata": {},
   "outputs": [
    {
     "data": {
      "image/png": "[encoded data removed]",
      "text/latex": [
       "$$\\sigma^{2}$$"
      ],
      "text/plain": [
       "      2\n",
       "\\sigma "
      ]
     },
     "execution_count": 84,
     "metadata": {},
     "output_type": "execute_result"
    }
   ],
   "source": [
    "simplify(V(X))"
   ]
  },
  {
   "cell_type": "markdown",
   "metadata": {},
   "source": [
    "正規分布表の使い方については関数 $g(x)$ の解釈が基本。$X$ が $N(0, 1)$ に従うとき、\n",
    "* 山の右側の面積＝左側の面積＝ $1/2$\n",
    "* 分布関数との関係 $F(x) = P(X \\le x)$\n",
    "\n",
    "数値計算なら SciPy のほうがたぶん速いが、SymPy でも確率の計算はできる。"
   ]
  },
  {
   "cell_type": "code",
   "execution_count": 85,
   "metadata": {},
   "outputs": [
    {
     "data": {
      "image/png": "[encoded data removed]",
      "text/latex": [
       "$$\\frac{1}{2}$$"
      ],
      "text/plain": [
       "1/2"
      ]
     },
     "execution_count": 85,
     "metadata": {},
     "output_type": "execute_result"
    }
   ],
   "source": [
    "Z = Normal('Z', 0, 1)\n",
    "P(Z <= 0)"
   ]
  },
  {
   "cell_type": "code",
   "execution_count": 86,
   "metadata": {},
   "outputs": [
    {
     "name": "stdout",
     "output_type": "stream",
     "text": [
      "0.6827\n",
      "0.9545\n",
      "0.9973\n"
     ]
    }
   ],
   "source": [
    "for i in (1, 2, 3):\n",
    "    print(f'{P(And(-i < Z, Z < i)).evalf():.4f}')"
   ]
  },
  {
   "cell_type": "markdown",
   "metadata": {},
   "source": [
    "正規分布表をプロットしておく。"
   ]
  },
  {
   "cell_type": "code",
   "execution_count": 87,
   "metadata": {},
   "outputs": [
    {
     "data": {
      "text/plain": [
       "[<matplotlib.lines.Line2D at 0x227fd30db70>]"
      ]
     },
     "execution_count": 87,
     "metadata": {},
     "output_type": "execute_result"
    },
    {
     "data": {
      "image/png": "[encoded data removed]",
      "text/plain": [
       "<Figure size 432x288 with 1 Axes>"
      ]
     },
     "metadata": {},
     "output_type": "display_data"
    }
   ],
   "source": [
    "import numpy as np\n",
    "import matplotlib.pyplot as plt\n",
    "from scipy import stats\n",
    "\n",
    "%matplotlib inline\n",
    "\n",
    "z = np.arange(0, 3.2, 0.01)\n",
    "plt.grid()\n",
    "plt.xlim(0, 3.2)\n",
    "plt.ylim(0, 0.5)\n",
    "plt.plot(z, stats.norm.cdf(z) - 0.5)"
   ]
  },
  {
   "cell_type": "markdown",
   "metadata": {},
   "source": [
    "### 正規化\n",
    "確率変数 $X$ が正規分布 $N(\\mu, \\sigma^2)$ に従っているとする。ここで確率変数を\n",
    "$$\n",
    "Z = \\dfrac{X - \\mu}{\\sigma}\n",
    "$$\n",
    "と置換すると、$Z$ は $N(0, 1)$ に従う。この置換を**正規化**という。\n",
    "\n",
    "受験模試の偏差値の話はこういうことだろう。\n",
    "1. 採点を終えれば、受験生の得点の平均値（＝期待値）と分散が計算できる。それぞれ $\\mu, \\sigma^2$ とする。\n",
    "2. 得点の分布は正規表現に従うものと仮定する。まったく勝手に仮定する。\n",
    "3. 得点の確率変数を正規化することで次の性質が利用できるようになる：\n",
    "\n",
    "   * ジャストで $\\mu$ と同じ得点であれば、偏差値は 50 である。\n",
    "   * もっというと得点および偏差は次のように正規化されている：\n",
    "   \n",
    "     $$\n",
    "     Z = \\dfrac{X - \\mu}{\\sigma},\\quad\n",
    "     V(Z) = 50 + \\dfrac{10(X - \\mu)}{\\sigma}.\n",
    "     $$\n",
    "   \n",
    "   * 前々ページの 68-95-99 ルール（この用語は別の本で知った）が偏差値帯 40-60, 30-70, 20-80 にそれぞれ適用される。"
   ]
  },
  {
   "cell_type": "markdown",
   "metadata": {},
   "source": [
    "## 2.11 確率的在庫モデル"
   ]
  },
  {
   "cell_type": "markdown",
   "metadata": {},
   "source": [
    "### 2.11.1 新聞売り子モデル"
   ]
  },
  {
   "cell_type": "markdown",
   "metadata": {},
   "source": [
    "前半がモデルの説明というか設計で、後半が水着販売業者にモデルを適用する話だ。\n",
    "前半の概略は次のようなものだ：\n",
    "\n",
    "* 在庫費用 $h > 0$: 定数。\n",
    "* 品切費用 $b > 0$: 定数。\n",
    "* 需要量を表す確率変数 $D > 0$: 連続的とする。\n",
    "  * 確率関数 $f(x)$\n",
    "  * 分布関数 $F(x)$\n",
    "* 仕入量 $s > 0$: これが変数だ。\n",
    "* 総費用を表す確率変数 $C$\n",
    "\n",
    "計算手順は次のようなものだ：\n",
    "\n",
    "1. ここから $C$ を書き下す。\n",
    "\n",
    "   $$\n",
    "   C = h \\max\\{s - D, 0\\} - b \\min\\{s - D, 0\\}.\n",
    "   $$\n",
    "\n",
    "2. 期待値 $E[C]$ を書き下す。\n",
    "\n",
    "   $$\n",
    "   \\begin{align*}\n",
    "   E[C] &= E[h \\max\\{s - D, 0\\} - b \\min\\{s - D, 0\\}]\\\\\n",
    "   &= h \\int_0^\\infty\\! \\max\\{s - x, 0\\} f(x)\\,\\mathrm{d}x - b \\int_0^\\infty\\!\\min\\{s - x, 0\\}f(x)\\,\\mathrm{d}x\\\\\n",
    "   &= h \\int_0^s\\!(s - x)f(x)\\,\\mathrm{d}x - b\\int_s^\\infty\\!(x - s)f(x)\\,\\mathrm{d}x.\n",
    "   \\end{align*}\n",
    "   $$\n",
    "\n",
    "3. その期待値を最小（極小）にするような $F$ または $f$ をとる $x$ を微分法で求める。\n",
    "\n",
    "   期待値が積分の形で表されていることと、$f$ と $F$ の関係から導関数がすぐにわかるのがありがたい。\n",
    "   \n",
    "   $$\n",
    "   \\begin{align*}\n",
    "   \\frac{\\mathrm{d} E[C]}{\\mathrm{d}s} &= h F(s) - b(1 - F(s)),\\\\\n",
    "   \\frac{\\mathrm{d}^2 E[C]}{\\mathrm{d}s^2} &= (h + b) f(s).\n",
    "   \\end{align*}\n",
    "   $$\n",
    "   \n",
    "  * 2 階導関数が非負であることからグラフが下に凸であることがわかる。\n",
    "  * よって 1 階導関数の値をゼロにする $s = s_0$ が所望の値。このとき $F(s_0) = \\dfrac{b}{b + h}.$\n",
    "  \n",
    "4. $F(s_0) = P(D \\le s_0)$ だから……。\n",
    "\n",
    "後半のやり方：\n",
    "\n",
    "1. $N(100, 10^2)$ を正規化しておく。$Z = \\dfrac{D - 100}{10}.$\n",
    "2. 前半の議論の $b$ および $h$ に相当する値を求める。\n",
    "\n",
    "   $$\n",
    "   \\begin{align*}\n",
    "   h &= 25 - 10 = 15,\\\\\n",
    "   b &= 75 - 20 = 50.\n",
    "   \\end{align*}\n",
    "   $$\n",
    "\n",
    "3. 前半の議論でいう $F(s_0)$ を求める。\n",
    "\n",
    "   $$\n",
    "   F(s_0) = \\dfrac{b}{b + h} = \\dfrac{50}{50 + 15} = 0.77\n",
    "   $$\n",
    "\n",
    "4. $P(0 \\le Z \\le z)$ の値から $z$ を求める。\n",
    "\n",
    "   $$\n",
    "   \\begin{align*}\n",
    "   P(0 \\le Z \\le z) &= P(Z < z) - P(Z < 0)\\\\ &= 0.77 - 0.5\\\\ &= 0.27\n",
    "   \\end{align*}\n",
    "   $$\n",
    "   \n",
    "   正規表現表から N(0, 1) の値が 0.27 になる $z$ をさがすと\n",
    "   だいたい 0.74 だと本書では言っている。\n",
    "\n",
    "5. $z$ から $D$ を求める。"
   ]
  },
  {
   "cell_type": "code",
   "execution_count": 88,
   "metadata": {},
   "outputs": [
    {
     "data": {
      "image/png": "[encoded data removed]",
      "text/latex": [
       "$$107.4$$"
      ],
      "text/plain": [
       "107.4"
      ]
     },
     "execution_count": 88,
     "metadata": {},
     "output_type": "execute_result"
    }
   ],
   "source": [
    "D = 0.74 * 10 + 100; D"
   ]
  },
  {
   "cell_type": "markdown",
   "metadata": {},
   "source": [
    "6. $s_0$ を求める。\n",
    "\n",
    "   107 か 108 が正解なわけだが、$P(D \\le 107) < P(D \\le s_0) < P(D \\le 108)$ なので 108 を採用する。"
   ]
  },
  {
   "cell_type": "markdown",
   "metadata": {},
   "source": [
    "### 2.11.2 座席割当モデル"
   ]
  },
  {
   "cell_type": "markdown",
   "metadata": {},
   "source": [
    "* 残り一つの場合\n",
    "  * $p$: 締切時間までに客がある確率\n",
    "  * $r$: 割引率\n",
    "  \n",
    "  この場合には $p < r$ かどうかで割引販売を続行するかどうかを決定するのが妥当になる。\n",
    "\n",
    "\n",
    "* 残りが複数の場合\n",
    "  * $X$: 確率変数。タイムセール開始時間までの客の人数。\n",
    "  * $r$: 割引率。先ほどと同じ仮定。\n",
    "  * $\\theta$: タイムセール開始時間までに売り手が確保する座席数。\n",
    "  \n",
    "  この場合には次のように考える。\n",
    "\n",
    "  1. 正規価格座席を売り切った後に正規価格座席を求める客が来る確率を求める。\n",
    "  \n",
    "     この確率は $P(X \\ge \\theta + 1)$ と表される。\n",
    "    \n",
    "  2. 先程と同様の理屈で 1. の確率が割引率より小ならば割引販売を続行する。\n",
    "  \n",
    "     $P(X \\ge \\theta + 1) < r$ を満たす最小の $\\theta$ を設定すればよい。\n",
    "     \n",
    "\n",
    "確率変数 $X$ が正規分布 $N(100, 10^2)$ に従うときの、割引率 $r = 0.8$ の切符に対する正規価格座席数 $\\theta$ を求める。\n",
    "\n",
    "1. 何はさておき正規化。\n",
    "\n",
    "   $$\n",
    "   Z = \\frac{X - 100}{10}\n",
    "   $$\n",
    "\n",
    "2. 条件 $P(X \\ge \\theta + 1) < r$ を分析する。\n",
    "\n",
    "   $$\n",
    "   \\begin{align*}\n",
    "   P\\left( X \\ge \\theta + 1\\right)\n",
    "   &= P \\left( \\dfrac{X - 100}{10} \\ge \\dfrac{(\\theta + 1) - 100}{10}\\right)\\\\\n",
    "   &\\lt 0.8\n",
    "   \\end{align*}\n",
    "   $$\n",
    "   \n",
    "   ここまで変形してから $N(0, 1)$ 正規分布表が使える。\n",
    "   $$0.8 - P(X < 0) = 0.3$$ であり、分布表でこの値をはさむものを検索すると（これは修練が必要だ。分布の山の対称性とか符号とかの発想に）\n",
    "   \n",
    "   $$\n",
    "   \\begin{align*}\n",
    "   P(-0.85 < Z) &= .8023\\\\\n",
    "   P(-0.84 < Z) &= .7995\n",
    "   \\end{align*}\n",
    "   $$\n",
    "   \n",
    "   がわかる。\n",
    "   \n",
    "   今回の事例では「分布山の積分区間の下端を求める」ことが目的であり、\n",
    "   0.8 つまり「0.5 より大きい値で抑えられている」という評価から、\n",
    "   分布表を負に変換して探すのだ。\n",
    "   \n",
    "   * SciPy を使うならば `norm.isf(0.8)` で `-0.8416...` がすぐに得られる。\n",
    "\n",
    "3. $\\theta$ を求める。\n",
    "\n",
    "   不等式 $\\dfrac{(\\theta + 1) - 100}{10} \\ge -0.84$ が得られたので、これを解く。\n",
    "   $\\theta = 91.$\n",
    "   \n",
    "  "
   ]
  },
  {
   "cell_type": "markdown",
   "metadata": {},
   "source": [
    "## 練習問題"
   ]
  },
  {
   "cell_type": "markdown",
   "metadata": {},
   "source": [
    "### 1. 二項分布"
   ]
  },
  {
   "cell_type": "markdown",
   "metadata": {},
   "source": [
    "二項分布の確率は離散的な値の和である。ゆえに $P(X \\le 2) = \\displaystyle \\sum_{k = 0}^2 P(X = k)$ でよい。\n",
    "\n",
    "SciPy で求めるには次のように `scipy.stats.binom` を用いる。あとは確率関数と分布関数のどちらを利用してもよい。題意により適うのは後者。"
   ]
  },
  {
   "cell_type": "code",
   "execution_count": 89,
   "metadata": {},
   "outputs": [
    {
     "data": {
      "image/png": "[encoded data removed]",
      "text/latex": [
       "$$0.34375$$"
      ],
      "text/plain": [
       "0.34375000000000006"
      ]
     },
     "execution_count": 89,
     "metadata": {},
     "output_type": "execute_result"
    }
   ],
   "source": [
    "from scipy import stats\n",
    "\n",
    "k = (0, 1, 2)\n",
    "sum(stats.binom.pmf(k, 6, 1/2))"
   ]
  },
  {
   "cell_type": "code",
   "execution_count": 90,
   "metadata": {},
   "outputs": [
    {
     "data": {
      "image/png": "[encoded data removed]",
      "text/latex": [
       "$$0.34375$$"
      ],
      "text/plain": [
       "0.34375000000000011"
      ]
     },
     "execution_count": 90,
     "metadata": {},
     "output_type": "execute_result"
    }
   ],
   "source": [
    "k = 2\n",
    "stats.binom.cdf(2, 6, 1/2)"
   ]
  },
  {
   "cell_type": "markdown",
   "metadata": {},
   "source": [
    "### 2. Poisson 分布"
   ]
  },
  {
   "cell_type": "code",
   "execution_count": 91,
   "metadata": {},
   "outputs": [
    {
     "data": {
      "image/png": "[encoded data removed]",
      "text/latex": [
       "$$\\left(- \\frac{\\lambda^{3}}{6} - \\frac{\\lambda^{2}}{2} - \\lambda + e^{\\lambda} - 1\\right) e^{- \\lambda}$$"
      ],
      "text/plain": [
       "⎛         3          2                         ⎞          \n",
       "⎜  \\lambda    \\lambda               \\lambda    ⎟  -\\lambda\n",
       "⎜- ──────── - ──────── - \\lambda + ℯ        - 1⎟⋅ℯ        \n",
       "⎝     6          2                             ⎠          "
      ]
     },
     "execution_count": 91,
     "metadata": {},
     "output_type": "execute_result"
    }
   ],
   "source": [
    "from sympy.stats import Poisson\n",
    "la = symbols(r'\\lambda', positive=True)\n",
    "X = Poisson('X', la)\n",
    "simplify(P(X > 3))"
   ]
  },
  {
   "cell_type": "markdown",
   "metadata": {},
   "source": [
    "### 3. 正規分布"
   ]
  },
  {
   "cell_type": "markdown",
   "metadata": {},
   "source": [
    "$N(1, 4)$ に従う確率変数 $X$ に関する性質を $N(0, 1)$ 正規分布表に基づいて答えるのが趣旨。\n",
    "\n",
    "1. $N(1, 4) = N(1, 2^2) = N(\\mu, \\sigma^2)$ ということで期待値、分散、標準偏差はそれぞれ $1, 4, 2$ だ。\n",
    "2. 何はさておき正規化。\n",
    "   $$\n",
    "   Z = \\frac{X - \\mu}{\\sigma} = \\frac{X - 1}{2}.\n",
    "   $$\n",
    "3. 正規分布表から各確率を求める。倍化や符号処理に注意しながら行う。\n",
    "\n",
    "   1. 座席割当問題で変形した要領で $P(X < 2) = P(Z < 0.5)$ だから、山左プラス表の $0.50$ の値を計算して答えは $0.6915$ となる。\n",
    "   2. $P(X > 4) = P(Z > 1.5)$ より、山右マイナス $P(0 < Z < 1.5)$ を計算する。\n",
    "   3. $|X| > 3$ ということは $X > 3$ または $X < -3$ である。\n",
    "   \n",
    "      1. $P(X > 3) = P(Z > 1)$ について、確率は右山引く $P(0 < Z < 1)$ で求めて、\n",
    "      2. $P(X < -3) = P(Z < -2)$ については左を右で考えて、右山引く $P(0 < Z < 2)$ で求める。\n",
    "      3. 「または」なので確率を加える。この和が求めるものだ。\n",
    "      \n",
    "SciPy を使うと左とか右とか気にせずに計算できる："
   ]
  },
  {
   "cell_type": "code",
   "execution_count": 92,
   "metadata": {},
   "outputs": [
    {
     "data": {
      "image/png": "[encoded data removed]",
      "text/latex": [
       "$$0.691462461274$$"
      ],
      "text/plain": [
       "0.69146246127401312"
      ]
     },
     "execution_count": 92,
     "metadata": {},
     "output_type": "execute_result"
    }
   ],
   "source": [
    "from scipy.stats import norm\n",
    "X = norm(0, 1)\n",
    "X.cdf(0.5)"
   ]
  },
  {
   "cell_type": "code",
   "execution_count": 93,
   "metadata": {},
   "outputs": [
    {
     "data": {
      "image/png": "[encoded data removed]",
      "text/latex": [
       "$$0.0668072012689$$"
      ],
      "text/plain": [
       "0.066807201268858085"
      ]
     },
     "execution_count": 93,
     "metadata": {},
     "output_type": "execute_result"
    }
   ],
   "source": [
    "1 - X.cdf(1.5)"
   ]
  },
  {
   "cell_type": "code",
   "execution_count": 94,
   "metadata": {},
   "outputs": [
    {
     "data": {
      "image/png": "[encoded data removed]",
      "text/latex": [
       "$$0.18140538588$$"
      ],
      "text/plain": [
       "0.18140538587963628"
      ]
     },
     "execution_count": 94,
     "metadata": {},
     "output_type": "execute_result"
    }
   ],
   "source": [
    "(1 - X.cdf(1)) + X.cdf(-2)"
   ]
  },
  {
   "cell_type": "code",
   "execution_count": null,
   "metadata": {},
   "outputs": [],
   "source": []
  }
 ],
 "metadata": {
  "kernelspec": {
   "display_name": "Python 3",
   "language": "python",
   "name": "python3"
  },
  "language_info": {
   "codemirror_mode": {
    "name": "ipython",
    "version": 3
   },
   "file_extension": ".py",
   "mimetype": "text/x-python",
   "name": "python",
   "nbconvert_exporter": "python",
   "pygments_lexer": "ipython3",
   "version": "3.6.6"
  }
 },
 "nbformat": 4,
 "nbformat_minor": 2
}
