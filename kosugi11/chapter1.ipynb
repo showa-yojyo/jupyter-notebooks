{
 "cells": [
  {
   "cell_type": "markdown",
   "metadata": {},
   "source": [
    "# 第 1 章 確率論における基本概念"
   ]
  },
  {
   "cell_type": "markdown",
   "metadata": {},
   "source": [
    "『はじめての確率論』（近代科学社、2011 年）読書ノート。\n",
    "\n",
    "本章の目標：\n",
    "* 確率論における基本概念を導入する\n",
    "* 分布の概念を導入する"
   ]
  },
  {
   "cell_type": "markdown",
   "metadata": {},
   "source": [
    "## 1.1 確率とは"
   ]
  },
  {
   "cell_type": "markdown",
   "metadata": {},
   "source": [
    "* 確率という言葉が日常生活になじんでいるせいで、かえって確率論でのそれを理解するのに支障があるかもしれない。\n",
    "* ある事象の数と全事象の数の比という素朴な確率の定義はあいまいなのだ。\n",
    "* 本格的に確率論を学習するには、ルベーグ積分論の習得が必要だと言われている。"
   ]
  },
  {
   "cell_type": "markdown",
   "metadata": {},
   "source": [
    "## 1.2 確率空間"
   ]
  },
  {
   "cell_type": "markdown",
   "metadata": {},
   "source": [
    "用語の定義\n",
    "* **試行** とは、偶然による実験とのことだ。\n",
    "* **根元事象**、**標本点** とは、試行の結果のおのおのである。\n",
    "  * 記号 $\\omega$ で表すことが多い。\n",
    "* **全事象**、**標本空間** とは、根元事象のすべてを含む集合である。\n",
    "  * 記号 $\\Omega$ で表すことが多い。\n",
    "* **事象** とは、全事象の部分集合である。\n",
    "  * $A, B, ...$ などで表すことが多い。\n",
    "  \n",
    "定義 1.1. **確率**の公理\n",
    "* 三つある：\n",
    "\n",
    "  1. $P(A) \\le 0.$\n",
    "  2. $P(\\Omega) = 1.$\n",
    "  3. 互いに排反な可算個の事象列 $A_n\\ (n = 1, 2, \\dotsc)$ に対して\n",
    "\n",
    "     $$\n",
    "     P\\left(\\bigcup_{n = 1}^\\infty A_n\\right) = \\sum_{n = 1}^\\infty P(A_n).\n",
    "     $$\n",
    "\n",
    "* **確率** $P$ と**確率空間** $(\\Omega, \\mathscr{F}, P)$ を導入したことになる。\n",
    "  * $\\mathscr{F}$ は「$\\Omega$ の部分集合からなる $\\sigma$ 加法族」というものだ。\n",
    "  * $P\\colon \\mathscr{F} \\longrightarrow \\mathbb{R}.$\n",
    "\n",
    "* 測度論は知らないことになっているので、確率測度を単に確率と呼べばいい。\n",
    "* 事象 $E$ に対して実数 $P(E)$ が「事象 $E$ の確率」を意味すると解釈する。\n",
    "\n",
    "\n",
    "* 命題 1.1. 確率空間の性質から導かれる確率 $P$ の性質\n",
    "\n",
    "  割愛。"
   ]
  },
  {
   "cell_type": "markdown",
   "metadata": {},
   "source": [
    "## 1.3 確率変数"
   ]
  },
  {
   "cell_type": "markdown",
   "metadata": {},
   "source": [
    "定義 1.2. **確率変数**\n",
    "* 確率変数とは確率空間上で定義された関数であり、根元事象に実数を対応させる。\n",
    "  * 記号 $X, Y, Z$ などで表す。\n",
    "  * $X\\colon \\Omega \\longrightarrow \\mathbb{R}.$\n",
    "* 細かく言うと $\\Omega$ で定義された実数値関数 $X$ が $\\mathscr{F}$ 可測であるときに $X$ を確率変数であるというようだ。\n",
    "  * $\\mathscr{F}$ 可測 というのは\n",
    "    $\\forall a \\in \\mathbb{R}, \\{\\omega \\mid X(\\omega) < a\\} \\in \\mathscr{F}$ の意。\n"
   ]
  },
  {
   "cell_type": "markdown",
   "metadata": {},
   "source": [
    "## 1.4 条件付き確率"
   ]
  },
  {
   "cell_type": "markdown",
   "metadata": {},
   "source": [
    "定義 1.3. **条件付き確率**\n",
    "* 条件付き確率とは、ある事象を前提として、また別の事象の起こる確率である。\n",
    "* 確率がゼロでない事象 $A$ の下で事象 $B$ が起こる確率を記号 $P(B| A)$ で表す。\n",
    "  * このアルファベットの順序をよく間違う。B after A と覚えておこうか。\n",
    "  \n",
    "$$\n",
    "P(B| A) = \\dfrac{P(A \\cap B)}{P(A)}\n",
    "$$\n",
    "\n",
    "命題 1.2. 乗法定理と**ベイズの定理**\n",
    "* (1) は明記されていないが $P(B) \\ne 0$ が必要だ。\n",
    "* (2) は (1) の一般化なので、同様に $P(\\bigcap A_i) \\ne 0$ が必要だ。\n",
    "* (3) のベイズの定理。全空間を互いに素な事象の直和に表現できるときの、そのうちの一つによる確率ということか。\n",
    "\n",
    "$$\n",
    "P(A_i|B) = \\dfrac{P(A_i)P(B | A_i)}{\\sum P(A_i)P(B | A_i)}\n",
    "$$\n",
    "\n",
    "  * 仮定 $\\Omega = \\bigsqcup A_i$ に注意。\n",
    "  * 機械の故障のたとえ話は重要だ。\n",
    "  * 証明のポイントは各 $A_i$ が互いに素ならば各 $A_i \\cap B$ もそうだという性質にある。\n",
    "  \n",
    "\n",
    "\n",
    "定義 1.4. **独立な事象**\n",
    "\n",
    "* $P(A \\cap B) = P(A) P(B)$ なる事象 $A, B \\subset \\Omega$ のことを独立な事象だという。\n",
    "* 確率の積で定義されている概念であることが本質的だ。任意の数の事象に対して取り扱える。"
   ]
  },
  {
   "cell_type": "markdown",
   "metadata": {},
   "source": [
    "## 1.5 1 変数分布の基礎概念"
   ]
  },
  {
   "cell_type": "markdown",
   "metadata": {},
   "source": [
    "### 1.5.1 分布とは"
   ]
  },
  {
   "cell_type": "markdown",
   "metadata": {},
   "source": [
    "* 確率変数の**分布**を言葉で定義している。「どのような値をどのような確率でとるか」と。つまり関数の形式をとる。\n",
    "* 確率変数は離散的か連続的かで分類できる。\n",
    "  * 離散的なときは分布を確率関数か分布関数のどちらかで、\n",
    "  * 連続的なときは密度関数か分布関数のどちらかで表す。\n",
    "----\n",
    "測度論としては次のように導入する：\n",
    "\n",
    "* $\\mathscr{B}^1$: 実数空間の $\\mathfrak{B}$ 可測集合の全体\n",
    "* $\\Phi\\colon \\mathscr{B}^1 \\longrightarrow \\mathbb{R}, \\quad A \\longmapsto P(\\{\\omega\\mid X(\\omega)\\in A\\})$\n",
    "  をとる。これは空間 $(\\mathbb{R}, \\mathscr{B}^1)$ 上の確率測度となる。\n",
    "* このように決まる $\\Phi$ を確率変数 $X$ の分布と呼ぶのが正式らしい。"
   ]
  },
  {
   "cell_type": "markdown",
   "metadata": {},
   "source": [
    "### 1.5.2 確率関数"
   ]
  },
  {
   "cell_type": "markdown",
   "metadata": {},
   "source": [
    "* 離散確率変数\n",
    "  * 確率変数と確率の表の形式で表すことができる（確率変数が有限個ならば）。\n",
    "  * 一般には関数の形式で表すのが自然だろう。\n",
    "  \n",
    "* それを **確率関数**とか**重み関数**と呼ぶ。記号$$p(x) = P(X = x),\\ (-\\infty < x < \\infty)$$ で表す。\n",
    "  * SciPy (`scipy.stats`) を使うときは `pmf()` が確率関数に相当する。\n",
    "\n",
    "\n",
    "* 命題 1.3. 確率関数の性質\n",
    "\n",
    "  この二つの性質は確率の公理からただちに導かれる。\n"
   ]
  },
  {
   "cell_type": "markdown",
   "metadata": {},
   "source": [
    "### 1.5.3 密度関数"
   ]
  },
  {
   "cell_type": "markdown",
   "metadata": {},
   "source": [
    "* 連続的な値を取る確率変数の場合には前節の方式は不適切だ。$P(a \\le X \\leq b)$ などを考えるとよい。\n",
    "\n",
    "定義 1.5. **密度関数**\n",
    "\n",
    "$$\n",
    "P(X \\in I) = \\int_I\\!f(x)\\,\\mathrm{d}x,\\quad I \\subset \\mathbb{R}\n",
    "$$\n",
    "\n",
    "* この形で確率が与えられているときの関数 $f(x)$ を $X$ の密度関数という。\n",
    "  * SciPy `(scipy.stats)` では `pdf()` が相当する。\n",
    "* 区間の両端点（などの高々有限個の点）における値は神経質になる必要はない。\n",
    "  測度論といっしょ。\n",
    "\n",
    "\n",
    "* 命題 1.4. 密度関数の性質\n",
    "\n",
    "  命題 1.3. の積分バージョンと覚えておこう。"
   ]
  },
  {
   "cell_type": "markdown",
   "metadata": {},
   "source": [
    "### 1.5.4 分布関数"
   ]
  },
  {
   "cell_type": "markdown",
   "metadata": {},
   "source": [
    "* 分布関数は離散的確率における確率関数と、連続的確率における密度関数とを同様に扱うための adapter のようなものか？\n",
    "\n",
    "\n",
    "* 定義 1.6. 分布関数 $F(x)$\n",
    "  $$\n",
    "  F(x) = P(X \\leq x),\\quad -\\infty \\le x \\le \\infty.\n",
    "  $$\n",
    "  * $X$ が離散的ならば和で、連続的ならば積分で分布関数をそれぞれ定義することになる。\n",
    "  * SciPy (`scipy.stats`) における `cdf()` 相当。\n",
    "\n",
    "\n",
    "* 定理 1.5. 分布関数の性質\n",
    "  * (3) の右連続性は分布関数の定義式における $X \\leq x$ から来ている。"
   ]
  },
  {
   "cell_type": "markdown",
   "metadata": {},
   "source": [
    "#### 確率関数と分布関数の関係\n",
    "* $p(x)$ を accumulate すると $F(x)$ が得られる。\n",
    "* $F(x)$ のグラフが階段状になることと、不連続点では区間が $[a, b)$ の形になることを観察しておく。\n",
    "* $p(x) = F(x + 0) - F(x - 0).$\n",
    "* $F(a) = P(X \\leq a).$\n",
    "\n",
    "\n",
    "* 命題 1.6. 確率関数と分布関数の関係いろいろ\n",
    "\n",
    "  割愛。"
   ]
  },
  {
   "cell_type": "markdown",
   "metadata": {},
   "source": [
    "#### 密度関数と分布関数の関係\n",
    "* 定理 1.7. 密度関数と分布関数の関係\n",
    "\n",
    "  分布関数は不定積分なので、微分すると密度関数に戻る。\n",
    "  $$\n",
    "  \\begin{split}\n",
    "  F(x) &= \\int_{-\\infty}^x\\!f(u)\\,\\mathrm{d}u,\\quad -\\infty \\le x \\le \\infty\\\\\n",
    "  f(x) &= F'(x).\n",
    "  \\end{split}\n",
    "  $$"
   ]
  },
  {
   "cell_type": "markdown",
   "metadata": {},
   "source": [
    "## 1.6 期待値"
   ]
  },
  {
   "cell_type": "markdown",
   "metadata": {},
   "source": [
    "* 確率変数が離散的なのか連続的なのかによって、**期待値**の数式による定義が異なる。\n",
    "* 記号は $E[X]$ とする。本当は $E[X, \\Omega]$ らしい。\n",
    "* 別名**平均値**。\n",
    "\n",
    "  * SciPy には `mean()` と `expect()` が両方ある。実装は別物。\n",
    "\n",
    "\n",
    "* 定義 1.7. 離散的確率変数 $X$ の期待値 $E[X]$\n",
    "  $$E[X] = \\sum a_i P(X = a_i)$$\n",
    "\n",
    "\n",
    "* 定義 1.8. 連続的確率変数 $X$ の期待値 $E[X]$\n",
    "  $$\\displaystyle E[X] = \\int_{-\\infty}^{\\infty}\\!x f(x)\\,\\mathrm{d}x.$$\n",
    "\n",
    "  ここで $f(x)$ は密度関数。\n",
    "\n",
    "\n",
    "* 定理 1.9. $E[\\cdot]$ の性質\n",
    "  * 式中の $X$ の代わりに関数 $g(X)$ で置き換えても、等式がそのまま成り立つ。\n",
    "  * この性質は分散などを計算するときに便利だ。\n",
    "\n",
    "\n",
    "* 定理 1.9. 期待値の性質\n",
    "  \n",
    "  いろいろな等式、不等式がある。割愛。\n",
    "  \n",
    "  * 証明は離散的な場合と連続的な場合とで異なる。考え方は同じはずだ。\n",
    "    級数と積分の線形性と、確率関数と密度関数の非負性および単調性から得られる。\n",
    "  * 最後の絶対値記号を含む不等式は異質だが、これはどこで使われるのか……。"
   ]
  },
  {
   "cell_type": "markdown",
   "metadata": {},
   "source": [
    "## 1.7 分散と標準偏差"
   ]
  },
  {
   "cell_type": "markdown",
   "metadata": {},
   "source": [
    "* 定義 1.9. **分散**\n",
    "  $$V(E) = E[(X - E[X])^2]$$\n",
    "  * 確率変数のとる値が期待値（＝平均値）からどれだけ離れているかを測るものだ。距離を知りたいので自乗が採用されている。\n",
    "  * そうすると単位も自乗になるわけで、次の概念がおのずと生まれる。\n",
    "\n",
    "\n",
    "* 定義 1.10. **標準偏差**\n",
    "  $$\n",
    "  \\sigma = \\sqrt{V(X)}.\n",
    "  $$\n",
    "  * 分散の大小と標準偏差の大小は同傾向にある。したがってデータの散らばり具合を見るにはどちらでもいい。\n",
    "  * 分散・標準偏差の値はグラフの山の広さを表す。\n",
    "\n",
    "\n",
    "* 定理 1.10. $V(X) = E[X^2] - E[X]^2.$\n",
    "\n",
    "  この方法で分散を求めるのがふつう。\n",
    "\n",
    "\n",
    "* 定義 1.11. $V(X)$\n",
    "\n",
    "  これは覚えなくていい。定理 1.10. が重要。\n",
    "\n",
    "\n",
    "* 定理 1.11. 分散の性質\n",
    "\n",
    "  $a, b \\in \\mathbb{R}$ と確率変数 $X$ について\n",
    "  $$V(aX + b) = a^2 V(X)$$\n",
    "\n",
    "\n",
    "* 定義 1.12. **モーメント**、**積率**\n",
    "  * 原点周りの k 次モーメントとは $E[X^k]$ のことだ。\n",
    "  * 平均値の周りの k 次モーメントとは $E[(X - E[X])^k]$ のことだ。\n",
    "\n",
    "\n",
    "* **歪度**\n",
    "  * 歪度とは、確率変数について平均値の周りの 3 次モーメントを標準偏差の 3 乗で割ったものだ。\n",
    "  * 分布がどう非対称なのかを示す指標となる。グラフの山の左右どちらが急なのかがわかる。\n",
    "\n",
    "* **尖度**\n",
    "  * 尖度とは、確率変数について平均値の周りの 4 次モーメントを標準偏差の 4 乗で割ったものだ。\n",
    "  * 正規分布の値が 3 になるので、これをベースラインとして、与えられた確率変数がどれほど\n",
    "    正規分布と近い・離れているのかを示す指標となる。"
   ]
  },
  {
   "cell_type": "markdown",
   "metadata": {},
   "source": [
    "## 1.8 例：都市平面における～"
   ]
  },
  {
   "cell_type": "markdown",
   "metadata": {},
   "source": [
    "* 例 1.1. 円形都市における一点と中心地への距離の期待値と分散\n",
    "  * わざわざ「歩いて中心地に移動する」とあるが、直線上を歩行できる保証がどこにもないのは気にしない。\n",
    "  * 距離に関する確率変数を $D_1$ とおくと、分布関数 $F(x)$ は $P(D_1 \\leq x)$ である。 \n",
    "  * この例の本質は、分布関数が円の面積であることだ。\n",
    "  * 密度関数 $f(x)$ を求めるのには分布関数を微分すればよい。\n",
    "  * 期待値 $E[D_1]$ は $xf(x)$ の積分で求まる。\n",
    "  * 期待値がわかったので分散 $V(D_1)$ も求まる。\n",
    "\n",
    "* 例 1.2. 正方形バージョン\n",
    "  * やはり求積問題といえる。\n",
    "  * 密度関数の積分が難しい。計算機にやらせよう。\n"
   ]
  },
  {
   "cell_type": "code",
   "execution_count": 1,
   "metadata": {},
   "outputs": [
    {
     "data": {
      "text/plain": [
       "0.382597858232106"
      ]
     },
     "execution_count": 1,
     "metadata": {},
     "output_type": "execute_result"
    }
   ],
   "source": [
    "from sympy import symbols, sqrt, acos, pi, integrate\n",
    "x = symbols('x')\n",
    "E = integrate(x * 2*pi*x, (x, 0, 1/2)) + integrate(x * (2*pi*x - 8*x*acos(1/(2*x))), (x, 1/2, 1/sqrt(2)))\n",
    "#E.simplify()\n",
    "E.evalf()"
   ]
  },
  {
   "cell_type": "code",
   "execution_count": 2,
   "metadata": {},
   "outputs": [
    {
     "data": {
      "text/plain": [
       "0.0202855455428717"
      ]
     },
     "execution_count": 2,
     "metadata": {},
     "output_type": "execute_result"
    }
   ],
   "source": [
    "E2 = integrate(x**2 * 2*pi*x, (x, 0, 1/2)) + integrate(x**2 * (2*pi*x - 8*x*acos(1/(2*x))), (x, 1/2, 1/sqrt(2)))\n",
    "V = E2 - E**2\n",
    "#V.simplify()\n",
    "V.evalf()"
   ]
  },
  {
   "cell_type": "markdown",
   "metadata": {},
   "source": [
    "## 練習問題"
   ]
  },
  {
   "cell_type": "markdown",
   "metadata": {},
   "source": [
    "### 1"
   ]
  },
  {
   "cell_type": "code",
   "execution_count": 3,
   "metadata": {},
   "outputs": [
    {
     "data": {
      "image/png": "[encoded data removed]",
      "text/plain": [
       "<Figure size 432x288 with 1 Axes>"
      ]
     },
     "metadata": {},
     "output_type": "display_data"
    },
    {
     "data": {
      "text/plain": [
       "<sympy.plotting.plot.Plot at 0x268e2ae38d0>"
      ]
     },
     "execution_count": 3,
     "metadata": {},
     "output_type": "execute_result"
    }
   ],
   "source": [
    "from sympy.plotting import plot\n",
    "%matplotlib inline\n",
    "plot((0, (x, -1, 0)), (x/3, (x, 0, 1)), (x/3 + 1/3, (x, 1, 2)), (1, (x, 2, 3)))"
   ]
  },
  {
   "cell_type": "markdown",
   "metadata": {},
   "source": [
    "分布関数 $F(x)$ から確率 $P(a \\le X \\le b)$ などを真面目に求めてもいいが、上のグラフが表現する離散的確率分布は次の表のものなので、すぐに言える：\n",
    "\n",
    "| X | 0 | 1   | 2   |\n",
    "|---|---|-----|-----|\n",
    "| P | 0 | 1/3 | 2/3 |"
   ]
  },
  {
   "cell_type": "markdown",
   "metadata": {},
   "source": [
    "### 2"
   ]
  },
  {
   "cell_type": "markdown",
   "metadata": {},
   "source": [
    "基本的に積分の計算問題。\n",
    "\n",
    "1. $\\displaystyle \\int_{-\\infty}^{\\infty}\\!f(x)\\,\\mathrm{d}x = 1$ が必要なので $C$ の値が決まる。\n",
    "2. 密度関数の対応する区間における積分値が確率だ。\n",
    "3. 分布関数 $F(x)$ は密度関数を accumulate して求める。連続分布なので積分を採用する。\n",
    "4. 期待値 $E[X]$ は $xf(x)$ の積分として求める。\n",
    "5. 分散 $V(X)$ を求めるのに $E[X]$ が得られていれば $E[X^2]$ を計算するといい。"
   ]
  },
  {
   "cell_type": "markdown",
   "metadata": {},
   "source": [
    "### 3"
   ]
  },
  {
   "cell_type": "markdown",
   "metadata": {},
   "source": [
    "4. 原点周りの 2 次モーメント $E[X^2]$ を求める。奇関数の積分になるからゼロ。"
   ]
  },
  {
   "cell_type": "code",
   "execution_count": 4,
   "metadata": {},
   "outputs": [
    {
     "data": {
      "text/plain": [
       "0"
      ]
     },
     "execution_count": 4,
     "metadata": {},
     "output_type": "execute_result"
    }
   ],
   "source": [
    "from sympy import oo, exp\n",
    "integrate(x**2 * (2 * x * exp(-x**2)), (x, -oo, oo)) "
   ]
  },
  {
   "cell_type": "markdown",
   "metadata": {},
   "source": [
    "### 4"
   ]
  },
  {
   "cell_type": "markdown",
   "metadata": {},
   "source": [
    "分布関数 $F(x)$ のグラフを描いて確率変数の感じをつかんでみる。"
   ]
  },
  {
   "cell_type": "code",
   "execution_count": 5,
   "metadata": {},
   "outputs": [
    {
     "data": {
      "image/png": "[encoded data removed]",
      "text/plain": [
       "<Figure size 432x288 with 1 Axes>"
      ]
     },
     "metadata": {},
     "output_type": "display_data"
    },
    {
     "data": {
      "text/plain": [
       "<sympy.plotting.plot.Plot at 0x268e7522278>"
      ]
     },
     "execution_count": 5,
     "metadata": {},
     "output_type": "execute_result"
    }
   ],
   "source": [
    "plot((0, (x, -1, 0)),\n",
    "     (x**2/2, (x, 0, 1)),\n",
    "     (2*x - x**2/2 - 1, (x, 1, 2)),\n",
    "     (1, (x, 2, 3)))"
   ]
  },
  {
   "cell_type": "markdown",
   "metadata": {},
   "source": [
    "1. 密度関数を $f(x)$ とすると区分的に $f(x) = F'(x)$ が成り立つ。\n",
    "2. $P(0.5 \\le X \\le 1.5) = F(1.5) - F(0.5)$ が成り立つことも注意したい。\n",
    "3. いつもの $E[X]$ の計算。\n",
    "4. いつもの $V(X)$ の計算。"
   ]
  },
  {
   "cell_type": "code",
   "execution_count": null,
   "metadata": {},
   "outputs": [],
   "source": []
  }
 ],
 "metadata": {
  "kernelspec": {
   "display_name": "Python 3",
   "language": "python",
   "name": "python3"
  },
  "language_info": {
   "codemirror_mode": {
    "name": "ipython",
    "version": 3
   },
   "file_extension": ".py",
   "mimetype": "text/x-python",
   "name": "python",
   "nbconvert_exporter": "python",
   "pygments_lexer": "ipython3",
   "version": "3.6.6"
  }
 },
 "nbformat": 4,
 "nbformat_minor": 2
}
